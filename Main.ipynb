{
 "cells": [
  {
   "cell_type": "code",
   "execution_count": 1,
   "metadata": {},
   "outputs": [],
   "source": [
    "import pandas as pd\n",
    "import numpy as np\n",
    "from modules import data_sampling, SimRank, evaluation\n",
    "from sklearn.model_selection import train_test_split"
   ]
  },
  {
   "cell_type": "markdown",
   "metadata": {},
   "source": [
    "# Loading & Manipulating Data"
   ]
  },
  {
   "cell_type": "code",
   "execution_count": 2,
   "metadata": {},
   "outputs": [],
   "source": [
    "# Load data\n",
    "ratings = pd.read_csv('ratings.csv')\n",
    "tags = pd.read_csv('genome-scores.csv')"
   ]
  },
  {
   "cell_type": "code",
   "execution_count": 3,
   "metadata": {},
   "outputs": [],
   "source": [
    "# Keep movies have tags\n",
    "# set threhod when using jaccard sim\n",
    "tags = tags[tags.relevance > 0.5]\n",
    "\n",
    "ratings, tags = data_sampling.align_items(ratings, tags)"
   ]
  },
  {
   "cell_type": "code",
   "execution_count": 4,
   "metadata": {},
   "outputs": [
    {
     "name": "stdout",
     "output_type": "stream",
     "text": [
      "number of users: 2000\n",
      "number of items: 200\n",
      "number of ratings: 68263\n"
     ]
    }
   ],
   "source": [
    "# sampling\n",
    "rating_sample = data_sampling.sample_df(ratings, user_sample_n = 2000, item_sample_n = 200)"
   ]
  },
  {
   "cell_type": "code",
   "execution_count": 5,
   "metadata": {},
   "outputs": [],
   "source": [
    "# Train test split\n",
    "rating_train, rating_test = train_test_split(rating_sample, test_size=0.10, random_state=42)"
   ]
  },
  {
   "cell_type": "markdown",
   "metadata": {},
   "source": [
    "# TagSimRank"
   ]
  },
  {
   "cell_type": "code",
   "execution_count": 6,
   "metadata": {},
   "outputs": [],
   "source": [
    "# Init instance\n",
    "tsr_jac = SimRank.tag_simrank()"
   ]
  },
  {
   "cell_type": "code",
   "execution_count": 7,
   "metadata": {},
   "outputs": [
    {
     "name": "stdout",
     "output_type": "stream",
     "text": [
      "User count: 2000, item count: 200\n",
      "Initializing tab-based item similarity matrix...\n",
      "Finished in 56.36721992492676s!\n",
      "Initializing User spread matrix...\n",
      "GPU failed, trying with CPU...\n",
      "Finished in 0.05898690223693848s!\n",
      "Initializing Item spread matrix...\n",
      "GPU failed, trying with CPU...\n",
      "Finished in 0.014152050018310547s!\n",
      "Initializing User evidence matrix...\n",
      "GPU failed, trying with CPU...\n",
      "Finished in 1.0542759895324707s!\n",
      "Initializing Item evidence matrix...\n",
      "GPU failed, trying with CPU...\n",
      "Finished in 1.7695989608764648s!\n",
      "Iteration 1 / 100 start:\n",
      "Updating S_item with GPU...\n",
      "GPU failed, trying with CPU...\n",
      "Updating S_user with GPU...\n",
      "GPU failed, trying with CPU...\n",
      "S_user updated in 0.03392219543457031, S_item updated in 0.06496882438659668!\n",
      "Iteration 2 / 100 start:\n",
      "Updating S_item with GPU...\n",
      "GPU failed, trying with CPU...\n",
      "Updating S_user with GPU...\n",
      "GPU failed, trying with CPU...\n",
      "S_user updated in 0.03439784049987793, S_item updated in 0.05472421646118164!\n",
      "Iteration 3 / 100 start:\n",
      "Updating S_item with GPU...\n",
      "GPU failed, trying with CPU...\n",
      "Updating S_user with GPU...\n",
      "GPU failed, trying with CPU...\n",
      "S_user updated in 0.04923605918884277, S_item updated in 0.050148725509643555!\n",
      "Iteration 4 / 100 start:\n",
      "Updating S_item with GPU...\n",
      "GPU failed, trying with CPU...\n",
      "Updating S_user with GPU...\n",
      "GPU failed, trying with CPU...\n",
      "S_user updated in 0.034993886947631836, S_item updated in 0.05093979835510254!\n",
      "Iteration 5 / 100 start:\n",
      "Updating S_item with GPU...\n",
      "GPU failed, trying with CPU...\n",
      "Updating S_user with GPU...\n",
      "GPU failed, trying with CPU...\n",
      "S_user updated in 0.0619659423828125, S_item updated in 0.05098295211791992!\n",
      "Iteration 6 / 100 start:\n",
      "Updating S_item with GPU...\n",
      "GPU failed, trying with CPU...\n",
      "Updating S_user with GPU...\n",
      "GPU failed, trying with CPU...\n",
      "S_user updated in 0.03366589546203613, S_item updated in 0.05331087112426758!\n",
      "Iteration 7 / 100 start:\n",
      "Updating S_item with GPU...\n",
      "GPU failed, trying with CPU...\n",
      "Updating S_user with GPU...\n",
      "GPU failed, trying with CPU...\n",
      "S_user updated in 0.05694293975830078, S_item updated in 0.051833152770996094!\n",
      "Iteration 8 / 100 start:\n",
      "Updating S_item with GPU...\n",
      "GPU failed, trying with CPU...\n",
      "Updating S_user with GPU...\n",
      "GPU failed, trying with CPU...\n",
      "S_user updated in 0.0405879020690918, S_item updated in 0.055661916732788086!\n",
      "Iteration 9 / 100 start:\n",
      "Updating S_item with GPU...\n",
      "GPU failed, trying with CPU...\n",
      "Updating S_user with GPU...\n",
      "GPU failed, trying with CPU...\n",
      "S_user updated in 0.05144500732421875, S_item updated in 0.05170798301696777!\n",
      "Iteration 10 / 100 start:\n",
      "Updating S_item with GPU...\n",
      "GPU failed, trying with CPU...\n",
      "Updating S_user with GPU...\n",
      "GPU failed, trying with CPU...\n",
      "S_user updated in 0.03313708305358887, S_item updated in 0.04965400695800781!\n",
      "Converged at iteration 10, break!\n"
     ]
    }
   ],
   "source": [
    "# train\n",
    "tsr_jac.fit(rating_train, tags, C_item = 0.8, C_user = 0.8, lbd = 0.3, iterations = 100, eps = 1e-4, how = 'jac')"
   ]
  },
  {
   "cell_type": "code",
   "execution_count": 8,
   "metadata": {},
   "outputs": [
    {
     "name": "stdout",
     "output_type": "stream",
     "text": [
      "Count of cold start user: 0\n",
      "Count of cold start item: 0\n"
     ]
    }
   ],
   "source": [
    "# predict\n",
    "tsr_jac_pred = tsr_jac.cf_recommendation(rating_test)"
   ]
  },
  {
   "cell_type": "code",
   "execution_count": 9,
   "metadata": {},
   "outputs": [],
   "source": [
    "user_grouped = evaluation.group(rating_test, 'user')"
   ]
  },
  {
   "cell_type": "code",
   "execution_count": 10,
   "metadata": {},
   "outputs": [
    {
     "name": "stdout",
     "output_type": "stream",
     "text": [
      "Precision: 0.11647429171038824\n",
      "Recall: 0.32924203143248265\n",
      "ndcg: 0.26380509255286033\n"
     ]
    }
   ],
   "source": [
    "# Evaluation\n",
    "tsr_precision = evaluation.precision_at_k(\n",
    "    rating_test,\n",
    "    tsr_jac_pred,\n",
    "    user_grouped = user_grouped\n",
    ")\n",
    "print(f\"Precision: {tsr_precision}\")\n",
    "tsr_recall = evaluation.recall_at_k(\n",
    "    rating_test,\n",
    "    tsr_jac_pred,\n",
    "    user_grouped = user_grouped\n",
    ")\n",
    "print(f\"Recall: {tsr_recall}\")\n",
    "tsr_ndcg = evaluation.ndcg_at_k(\n",
    "    rating_test,\n",
    "    tsr_jac_pred,\n",
    "    user_grouped = user_grouped\n",
    ")\n",
    "print(f\"ndcg: {tsr_ndcg}\")"
   ]
  },
  {
   "cell_type": "code",
   "execution_count": 11,
   "metadata": {},
   "outputs": [],
   "source": [
    "# aggrate evaluation\n",
    "precision, recall, ndcg = evaluation.evaluation_at_k(\n",
    "    rating_test,\n",
    "    tsr_jac_pred,\n",
    "    user_grouped = user_grouped\n",
    ")"
   ]
  },
  {
   "cell_type": "code",
   "execution_count": 12,
   "metadata": {},
   "outputs": [
    {
     "name": "stdout",
     "output_type": "stream",
     "text": [
      "Recall for each user group:  {'0-5': 0.0931, '5-10': 0.2235, '10-50': 0.408}\n"
     ]
    },
    {
     "name": "stderr",
     "output_type": "stream",
     "text": [
      "/Users/mac/anaconda2/envs/py36/lib/python3.6/site-packages/seaborn/_decorators.py:43: FutureWarning: Pass the following variables as keyword args: x, y. From version 0.12, the only valid positional argument will be `data`, and passing other arguments without an explicit keyword will result in an error or misinterpretation.\n",
      "  FutureWarning\n"
     ]
    },
    {
     "data": {
      "image/png": "[encoded data removed]",
      "text/plain": [
       "<Figure size 432x288 with 1 Axes>"
      ]
     },
     "metadata": {
      "needs_background": "light"
     },
     "output_type": "display_data"
    },
    {
     "data": {
      "text/plain": [
       "{'0-5': 0.0931, '5-10': 0.2235, '10-50': 0.408}"
      ]
     },
     "execution_count": 12,
     "metadata": {},
     "output_type": "execute_result"
    }
   ],
   "source": [
    "evaluation.precision_over_user_group(rating_test,\n",
    "    tsr_jac_pred,\n",
    "    user_grouped = user_grouped)"
   ]
  },
  {
   "cell_type": "code",
   "execution_count": 13,
   "metadata": {},
   "outputs": [
    {
     "name": "stdout",
     "output_type": "stream",
     "text": [
      "Recall for each user group:  {'0-5': 0.3306, '5-10': 0.3219, '10-50': 0.3229}\n"
     ]
    },
    {
     "name": "stderr",
     "output_type": "stream",
     "text": [
      "/Users/mac/anaconda2/envs/py36/lib/python3.6/site-packages/seaborn/_decorators.py:43: FutureWarning: Pass the following variables as keyword args: x, y. From version 0.12, the only valid positional argument will be `data`, and passing other arguments without an explicit keyword will result in an error or misinterpretation.\n",
      "  FutureWarning\n"
     ]
    },
    {
     "data": {
      "image/png": "[encoded data removed]",
      "text/plain": [
       "<Figure size 432x288 with 1 Axes>"
      ]
     },
     "metadata": {
      "needs_background": "light"
     },
     "output_type": "display_data"
    },
    {
     "data": {
      "text/plain": [
       "{'0-5': 0.3306, '5-10': 0.3219, '10-50': 0.3229}"
      ]
     },
     "execution_count": 13,
     "metadata": {},
     "output_type": "execute_result"
    }
   ],
   "source": [
    "evaluation.recall_over_user_group(rating_test,\n",
    "    tsr_jac_pred,\n",
    "    user_grouped = user_grouped)"
   ]
  },
  {
   "cell_type": "code",
   "execution_count": 13,
   "metadata": {},
   "outputs": [
    {
     "name": "stdout",
     "output_type": "stream",
     "text": [
      "Precision: 0.10493204283360792\n",
      "Recall: 0.17899064676510162\n",
      "Recall: 0.17582168273247448\n"
     ]
    }
   ],
   "source": [
    "# Evaluation\n",
    "tsr_precision = evaluation.precision_at_k(\n",
    "    rating_test,\n",
    "    tsr_pred,\n",
    "    user_grouped = user_grouped\n",
    ")\n",
    "print(f\"Precision: {tsr_precision}\")\n",
    "tsr_recall = evaluation.recall_at_k(\n",
    "    rating_test,\n",
    "    tsr_pred,\n",
    "    user_grouped = user_grouped\n",
    ")\n",
    "print(f\"Recall: {tsr_recall}\")\n",
    "tsr_ndcg = evaluation.ndcg_at_k(\n",
    "    rating_test,\n",
    "    tsr_pred,\n",
    "    user_grouped = user_grouped\n",
    ")\n",
    "print(f\"ndcg: {tsr_ndcg}\")"
   ]
  },
  {
   "cell_type": "markdown",
   "metadata": {},
   "source": [
    "# Weighted Bipartite SimRank"
   ]
  },
  {
   "cell_type": "code",
   "execution_count": 14,
   "metadata": {},
   "outputs": [],
   "source": [
    "# Init instance\n",
    "wbs = SimRank.weighted_bipartite_simrank()"
   ]
  },
  {
   "cell_type": "code",
   "execution_count": 15,
   "metadata": {},
   "outputs": [
    {
     "name": "stdout",
     "output_type": "stream",
     "text": [
      "User count: 2000, item count: 200\n",
      "Initializing User spread matrix...\n",
      "GPU failed, trying with CPU...\n",
      "Finished in 0.06900930404663086s!\n",
      "Initializing Item spread matrix...\n",
      "GPU failed, trying with CPU...\n",
      "Finished in 0.017073869705200195s!\n",
      "Initializing User evidence matrix...\n",
      "GPU failed, trying with CPU...\n",
      "Finished in 1.0615968704223633s!\n",
      "Initializing Item evidence matrix...\n",
      "GPU failed, trying with CPU...\n",
      "Finished in 1.8112709522247314s!\n",
      "Iteration 1 / 100 start:\n",
      "Updating S_item with GPU...\n",
      "GPU failed, trying with CPU...\n",
      "Updating S_user with GPU...\n",
      "GPU failed, trying with CPU...\n",
      "S_user updated in 0.05030703544616699, S_item updated in 0.06699895858764648!\n",
      "Iteration 2 / 100 start:\n",
      "Updating S_item with GPU...\n",
      "GPU failed, trying with CPU...\n",
      "Updating S_user with GPU...\n",
      "GPU failed, trying with CPU...\n",
      "S_user updated in 0.12136197090148926, S_item updated in 0.16221213340759277!\n",
      "Iteration 3 / 100 start:\n",
      "Updating S_item with GPU...\n",
      "GPU failed, trying with CPU...\n",
      "Updating S_user with GPU...\n",
      "GPU failed, trying with CPU...\n",
      "S_user updated in 0.03769326210021973, S_item updated in 0.07756328582763672!\n",
      "Iteration 4 / 100 start:\n",
      "Updating S_item with GPU...\n",
      "GPU failed, trying with CPU...\n",
      "Updating S_user with GPU...\n",
      "GPU failed, trying with CPU...\n",
      "S_user updated in 0.03433489799499512, S_item updated in 0.05329108238220215!\n",
      "Iteration 5 / 100 start:\n",
      "Updating S_item with GPU...\n",
      "GPU failed, trying with CPU...\n",
      "Updating S_user with GPU...\n",
      "GPU failed, trying with CPU...\n",
      "S_user updated in 0.04987788200378418, S_item updated in 0.07105684280395508!\n",
      "Iteration 6 / 100 start:\n",
      "Updating S_item with GPU...\n",
      "GPU failed, trying with CPU...\n",
      "Updating S_user with GPU...\n",
      "GPU failed, trying with CPU...\n",
      "S_user updated in 0.034394025802612305, S_item updated in 0.052188873291015625!\n",
      "Iteration 7 / 100 start:\n",
      "Updating S_item with GPU...\n",
      "GPU failed, trying with CPU...\n",
      "Updating S_user with GPU...\n",
      "GPU failed, trying with CPU...\n",
      "S_user updated in 0.04612898826599121, S_item updated in 0.09647607803344727!\n",
      "Iteration 8 / 100 start:\n",
      "Updating S_item with GPU...\n",
      "GPU failed, trying with CPU...\n",
      "Updating S_user with GPU...\n",
      "GPU failed, trying with CPU...\n",
      "S_user updated in 0.11098098754882812, S_item updated in 0.10601210594177246!\n",
      "Iteration 9 / 100 start:\n",
      "Updating S_item with GPU...\n",
      "GPU failed, trying with CPU...\n",
      "Updating S_user with GPU...\n",
      "GPU failed, trying with CPU...\n",
      "S_user updated in 0.03476309776306152, S_item updated in 0.052030086517333984!\n",
      "Iteration 10 / 100 start:\n",
      "Updating S_item with GPU...\n",
      "GPU failed, trying with CPU...\n",
      "Updating S_user with GPU...\n",
      "GPU failed, trying with CPU...\n",
      "S_user updated in 0.06379127502441406, S_item updated in 0.05218386650085449!\n",
      "Iteration 11 / 100 start:\n",
      "Updating S_item with GPU...\n",
      "GPU failed, trying with CPU...\n",
      "Updating S_user with GPU...\n",
      "GPU failed, trying with CPU...\n",
      "S_user updated in 0.03377366065979004, S_item updated in 0.06242990493774414!\n",
      "Converged at iteration 11, break!\n"
     ]
    }
   ],
   "source": [
    "wbs.fit(rating_train)"
   ]
  },
  {
   "cell_type": "code",
   "execution_count": 16,
   "metadata": {},
   "outputs": [
    {
     "name": "stdout",
     "output_type": "stream",
     "text": [
      "Count of cold start user: 0\n",
      "Count of cold start item: 0\n"
     ]
    }
   ],
   "source": [
    "wbs_pred = wbs.cf_recommendation(rating_test)"
   ]
  },
  {
   "cell_type": "code",
   "execution_count": null,
   "metadata": {},
   "outputs": [],
   "source": [
    "# Evaluation\n",
    "wbs_precision = evaluation.precision_at_k(\n",
    "    rating_test,\n",
    "    wbs_pred,\n",
    "    user_grouped = user_grouped\n",
    ")\n",
    "print(f\"Precision: {tsr_precision}\")\n",
    "wbs_recall = evaluation.recall_at_k(\n",
    "    rating_test,\n",
    "    wbs_pred,\n",
    "    user_grouped = user_grouped\n",
    ")\n",
    "print(f\"Recall: {tsr_recall}\")\n",
    "wbs_ndcg = evaluation.ndcg_at_k(\n",
    "    rating_test,\n",
    "    wbs_pred,\n",
    "    user_grouped = user_grouped\n",
    ")\n",
    "print(f\"ndcg: {tsr_ndcg}\")"
   ]
  },
  {
   "cell_type": "code",
   "execution_count": null,
   "metadata": {},
   "outputs": [],
   "source": []
  },
  {
   "cell_type": "code",
   "execution_count": 82,
   "metadata": {},
   "outputs": [],
   "source": [
    "import matplotlib.pyplot as plt"
   ]
  },
  {
   "cell_type": "code",
   "execution_count": 83,
   "metadata": {},
   "outputs": [],
   "source": [
    "COL_USER = \"userId\"\n",
    "COL_ITEM = \"movieId\"\n",
    "COL_RATING = \"rating\"\n",
    "COL_PREDICTION = \"rating\"\n",
    "DEFAULT_K = 10\n",
    "DEFAULT_THRESHOLD = 12\n",
    "\n",
    "DEFAULT_USER_COL = \"userId\"\n",
    "DEFAULT_ITEM_COL = \"movieId\"\n",
    "DEFAULT_RATING_COL = \"rating\"\n",
    "#DEFAULT_LABEL_COL = \"label\"\n",
    "#DEFAULT_TIMESTAMP_COL = \"timestamp\"\n",
    "DEFAULT_PREDICTION_COL = \"rating\""
   ]
  },
  {
   "cell_type": "code",
   "execution_count": 84,
   "metadata": {},
   "outputs": [],
   "source": [
    "def merge_ranking_true_pred(\n",
    "    rating_true,\n",
    "    rating_pred,\n",
    "    col_user,\n",
    "    col_item,\n",
    "    col_rating,\n",
    "    col_prediction,\n",
    "    relevancy_method,\n",
    "    user_grouped,\n",
    "    k=10,\n",
    "    threshold=12,\n",
    "    \n",
    "):\n",
    "    \"\"\"Filter truth and prediction data frames on common users\n",
    "    Args:\n",
    "        rating_true (pd.DataFrame): True DataFrame\n",
    "        rating_pred (pd.DataFrame): Predicted DataFrame\n",
    "        col_user (str): column name for user\n",
    "        col_item (str): column name for item\n",
    "        col_rating (str): column name for rating\n",
    "        col_prediction (str): column name for prediction\n",
    "        relevancy_method (str): method for determining relevancy ['top_k', 'by_threshold', None]. None means that the \n",
    "            top k items are directly provided, so there is no need to compute the relevancy operation.\n",
    "        k (int): number of top k items per user (optional)\n",
    "        threshold (float): threshold of top items per user (optional)\n",
    "    Returns:\n",
    "        pd.DataFrame, pd.DataFrame, int: DataFrame of recommendation hits, sorted by `col_user` and `rank`\n",
    "        DataFrmae of hit counts vs actual relevant items per user number of unique user ids\n",
    "    \"\"\"\n",
    "\n",
    "    # Make sure the prediction and true data frames have the same set of users\n",
    "    common_users = set(rating_true[col_user]).intersection(set(rating_pred[col_user]))\n",
    "    rating_true_common = rating_true[rating_true[col_user].isin(common_users)]\n",
    "    rating_pred_common = rating_pred[rating_pred[col_user].isin(common_users)]\n",
    "    n_users = len(common_users)\n",
    "\n",
    "    # Return hit items in prediction data frame with ranking information. This is used for calculating NDCG and MAP.\n",
    "    # Use first to generate unique ranking values for each item. This is to align with the implementation in\n",
    "    # Spark evaluation metrics, where index of each recommended items (the indices are unique to items) is used\n",
    "    # to calculate penalized precision of the ordered items.        \n",
    "\n",
    "    \n",
    "    # Sort dataframe by col_user and (top k) col_rating\n",
    "    if relevancy_method is None:\n",
    "        df_hit = rating_pred_common\n",
    "    elif relevancy_method == \"top_k\":\n",
    "        df_hit = rating_pred_common.groupby(col_user, as_index=False)\\\n",
    "        .apply(lambda x: x.nlargest(k, col_prediction))\\\n",
    "        .reset_index(drop=True)\n",
    "    elif relevancy_method == \"by_threshold\":\n",
    "        df_hit = rating_pred_common[rating_pred_common[col_prediction] >= threshold]\\\n",
    "        .sort_values(col_prediction, ascending=False)\n",
    "    else:\n",
    "        raise NotImplementedError(\"Invalid relevancy_method\")\n",
    "        \n",
    "    # Add ranks\n",
    "    df_hit[\"rank\"] = df_hit.groupby(col_user, sort=False).cumcount() + 1\n",
    "    \n",
    "    \n",
    "    df_hit = pd.merge(df_hit, rating_true_common, on=[col_user, col_item])[\n",
    "        [col_user, col_item, \"rank\"]\n",
    "    ]\n",
    "\n",
    "    # count the number of hits vs actual relevant items per user\n",
    "    df_hit_count = pd.merge(\n",
    "        df_hit.groupby(col_user, as_index=False)[col_user].agg({\"hit\": \"count\"}),\n",
    "        rating_true_common.groupby(col_user, as_index=False)[col_user].agg(\n",
    "            {\"actual\": \"count\"}\n",
    "        ),\n",
    "        on=col_user,\n",
    "    )\n",
    "    \n",
    "    df_hit_count = df_hit_count.join(user_grouped.set_index(col_user), on = [col_user], how = 'left')\n",
    "\n",
    "    return df_hit, df_hit_count, n_users"
   ]
  },
  {
   "cell_type": "code",
   "execution_count": 85,
   "metadata": {},
   "outputs": [],
   "source": [
    "def recall_over_user_group(\n",
    "    df_true,\n",
    "    df_pred,\n",
    "    user_grouped,\n",
    "    col_user='userId',\n",
    "    col_item='movieId',\n",
    "    col_rating='rating',\n",
    "    col_prediction='rating',\n",
    "    relevancy_method=\"top_k\",\n",
    "    k=10,\n",
    "    threshold=12,\n",
    "    k_items=5,\n",
    "    plot=True\n",
    "):\n",
    "    df_hit, df_hit_count, n_users = merge_ranking_true_pred(\n",
    "        df_true,\n",
    "        df_pred,\n",
    "        col_user,\n",
    "        col_item,\n",
    "        col_rating,\n",
    "        col_prediction,\n",
    "        relevancy_method,\n",
    "        user_grouped,\n",
    "        k=k,\n",
    "        threshold=threshold,\n",
    "    )\n",
    "\n",
    "    if df_hit.shape[0] == 0:\n",
    "        return 0.0\n",
    "    df_hit_count['recall'] = df_hit_count[\"hit\"] / df_hit_count[\"actual\"]\n",
    "    user_recall = df_hit_count[['userId', 'recall']]\n",
    "    groupIds = sorted(user_grouped.groupId.unique())\n",
    "    groupRanges = [user_grouped[user_grouped.groupId == groupId].groupRange.unique()[0] for groupId in groupIds]\n",
    "    gRecalls = list()\n",
    "    for groupId in groupIds:\n",
    "        idx  = user_grouped[user_grouped.groupId == groupId].userId.unique()\n",
    "        count = len(idx)\n",
    "        gRecall = (user_recall[user_recall.userId.isin(idx)]['recall'].sum() / count).round(4)\n",
    "        gRecalls.append(gRecall)\n",
    "        \n",
    "    recall_dict = {key: value for key, value in zip(groupRanges, gRecalls)}\n",
    "    print(\"Recall for each user group: \", recall_dict)\n",
    "    _, ax = plt.subplots(1,1)\n",
    "    x = np.arange(len(groupIds)) \n",
    "    y = gRecalls\n",
    "    \n",
    "    if plot:\n",
    "        sns.barplot(x, y, ax = ax)\n",
    "        ax.set_xticklabels(groupRanges)\n",
    "        ax.set_title('Recall Over Different User Groups', size=15)\n",
    "        ax.set_xlabel('User Group With #ratings', size=12)\n",
    "        plt.show()\n",
    "    return recall_dict"
   ]
  },
  {
   "cell_type": "code",
   "execution_count": 86,
   "metadata": {},
   "outputs": [],
   "source": [
    "import seaborn as sns"
   ]
  },
  {
   "cell_type": "code",
   "execution_count": 87,
   "metadata": {},
   "outputs": [
    {
     "name": "stdout",
     "output_type": "stream",
     "text": [
      "Recall for each user group:  {'0-5': 0.2383, '5-10': 0.2185, '10-50': 0.1989}\n"
     ]
    },
    {
     "name": "stderr",
     "output_type": "stream",
     "text": [
      "/Users/mac/anaconda2/envs/py36/lib/python3.6/site-packages/seaborn/_decorators.py:43: FutureWarning: Pass the following variables as keyword args: x, y. From version 0.12, the only valid positional argument will be `data`, and passing other arguments without an explicit keyword will result in an error or misinterpretation.\n",
      "  FutureWarning\n"
     ]
    },
    {
     "data": {
      "image/png": "[encoded data removed]",
      "text/plain": [
       "<Figure size 432x288 with 1 Axes>"
      ]
     },
     "metadata": {
      "needs_background": "light"
     },
     "output_type": "display_data"
    },
    {
     "data": {
      "text/plain": [
       "{'0-5': 0.2383, '5-10': 0.2185, '10-50': 0.1989}"
      ]
     },
     "execution_count": 87,
     "metadata": {},
     "output_type": "execute_result"
    }
   ],
   "source": [
    "recall_over_user_group(\n",
    "    rating_test,\n",
    "    wbs_pred,\n",
    "    user_grouped\n",
    ")"
   ]
  },
  {
   "cell_type": "code",
   "execution_count": 54,
   "metadata": {},
   "outputs": [
    {
     "name": "stdout",
     "output_type": "stream",
     "text": [
      "Recall for each user group:  {'0-5': 0.3106, '5-10': 0.3095, '10-50': 0.3066, '50-100': 0.3883}\n"
     ]
    },
    {
     "name": "stderr",
     "output_type": "stream",
     "text": [
      "/Users/mac/anaconda2/envs/py36/lib/python3.6/site-packages/pandas/core/series.py:1143: FutureWarning: \n",
      "Passing list-likes to .loc or [] with any missing label will raise\n",
      "KeyError in the future, you can use .reindex() as an alternative.\n",
      "\n",
      "See the documentation here:\n",
      "https://pandas.pydata.org/pandas-docs/stable/user_guide/indexing.html#deprecate-loc-reindex-listlike\n",
      "  return self.loc[key]\n",
      "/Users/mac/anaconda2/envs/py36/lib/python3.6/site-packages/seaborn/_decorators.py:43: FutureWarning: Pass the following variables as keyword args: x, y. From version 0.12, the only valid positional argument will be `data`, and passing other arguments without an explicit keyword will result in an error or misinterpretation.\n",
      "  FutureWarning\n"
     ]
    },
    {
     "data": {
      "image/png": "[encoded data removed]",
      "text/plain": [
       "<Figure size 432x288 with 1 Axes>"
      ]
     },
     "metadata": {
      "needs_background": "light"
     },
     "output_type": "display_data"
    },
    {
     "data": {
      "text/plain": [
       "{'0-5': 0.3106, '5-10': 0.3095, '10-50': 0.3066, '50-100': 0.3883}"
      ]
     },
     "execution_count": 54,
     "metadata": {},
     "output_type": "execute_result"
    }
   ],
   "source": [
    "recall_over_user_group(\n",
    "    rating_test,\n",
    "    tsr_jac_pred,\n",
    "    user_grouped\n",
    ")"
   ]
  },
  {
   "cell_type": "code",
   "execution_count": 89,
   "metadata": {},
   "outputs": [
    {
     "data": {
      "text/html": [
       "<div>\n",
       "<style scoped>\n",
       "    .dataframe tbody tr th:only-of-type {\n",
       "        vertical-align: middle;\n",
       "    }\n",
       "\n",
       "    .dataframe tbody tr th {\n",
       "        vertical-align: top;\n",
       "    }\n",
       "\n",
       "    .dataframe thead th {\n",
       "        text-align: right;\n",
       "    }\n",
       "</style>\n",
       "<table border=\"1\" class=\"dataframe\">\n",
       "  <thead>\n",
       "    <tr style=\"text-align: right;\">\n",
       "      <th></th>\n",
       "      <th>userId</th>\n",
       "      <th>hit</th>\n",
       "      <th>actual</th>\n",
       "      <th>groupId</th>\n",
       "      <th>groupRange</th>\n",
       "      <th>recall</th>\n",
       "    </tr>\n",
       "  </thead>\n",
       "  <tbody>\n",
       "    <tr>\n",
       "      <td>0</td>\n",
       "      <td>58</td>\n",
       "      <td>1</td>\n",
       "      <td>9</td>\n",
       "      <td>2</td>\n",
       "      <td>5-10</td>\n",
       "      <td>0.111111</td>\n",
       "    </tr>\n",
       "    <tr>\n",
       "      <td>1</td>\n",
       "      <td>132</td>\n",
       "      <td>1</td>\n",
       "      <td>5</td>\n",
       "      <td>1</td>\n",
       "      <td>0-5</td>\n",
       "      <td>0.200000</td>\n",
       "    </tr>\n",
       "    <tr>\n",
       "      <td>2</td>\n",
       "      <td>140</td>\n",
       "      <td>1</td>\n",
       "      <td>4</td>\n",
       "      <td>1</td>\n",
       "      <td>0-5</td>\n",
       "      <td>0.250000</td>\n",
       "    </tr>\n",
       "    <tr>\n",
       "      <td>3</td>\n",
       "      <td>378</td>\n",
       "      <td>1</td>\n",
       "      <td>3</td>\n",
       "      <td>1</td>\n",
       "      <td>0-5</td>\n",
       "      <td>0.333333</td>\n",
       "    </tr>\n",
       "    <tr>\n",
       "      <td>4</td>\n",
       "      <td>394</td>\n",
       "      <td>2</td>\n",
       "      <td>13</td>\n",
       "      <td>3</td>\n",
       "      <td>10-50</td>\n",
       "      <td>0.153846</td>\n",
       "    </tr>\n",
       "    <tr>\n",
       "      <td>...</td>\n",
       "      <td>...</td>\n",
       "      <td>...</td>\n",
       "      <td>...</td>\n",
       "      <td>...</td>\n",
       "      <td>...</td>\n",
       "      <td>...</td>\n",
       "    </tr>\n",
       "    <tr>\n",
       "      <td>2370</td>\n",
       "      <td>138387</td>\n",
       "      <td>1</td>\n",
       "      <td>1</td>\n",
       "      <td>1</td>\n",
       "      <td>0-5</td>\n",
       "      <td>1.000000</td>\n",
       "    </tr>\n",
       "    <tr>\n",
       "      <td>2371</td>\n",
       "      <td>138406</td>\n",
       "      <td>2</td>\n",
       "      <td>6</td>\n",
       "      <td>2</td>\n",
       "      <td>5-10</td>\n",
       "      <td>0.333333</td>\n",
       "    </tr>\n",
       "    <tr>\n",
       "      <td>2372</td>\n",
       "      <td>138436</td>\n",
       "      <td>1</td>\n",
       "      <td>4</td>\n",
       "      <td>1</td>\n",
       "      <td>0-5</td>\n",
       "      <td>0.250000</td>\n",
       "    </tr>\n",
       "    <tr>\n",
       "      <td>2373</td>\n",
       "      <td>138454</td>\n",
       "      <td>1</td>\n",
       "      <td>2</td>\n",
       "      <td>1</td>\n",
       "      <td>0-5</td>\n",
       "      <td>0.500000</td>\n",
       "    </tr>\n",
       "    <tr>\n",
       "      <td>2374</td>\n",
       "      <td>138457</td>\n",
       "      <td>3</td>\n",
       "      <td>6</td>\n",
       "      <td>2</td>\n",
       "      <td>5-10</td>\n",
       "      <td>0.500000</td>\n",
       "    </tr>\n",
       "  </tbody>\n",
       "</table>\n",
       "<p>2375 rows × 6 columns</p>\n",
       "</div>"
      ],
      "text/plain": [
       "      userId  hit  actual  groupId groupRange    recall\n",
       "0         58    1       9        2       5-10  0.111111\n",
       "1        132    1       5        1        0-5  0.200000\n",
       "2        140    1       4        1        0-5  0.250000\n",
       "3        378    1       3        1        0-5  0.333333\n",
       "4        394    2      13        3      10-50  0.153846\n",
       "...      ...  ...     ...      ...        ...       ...\n",
       "2370  138387    1       1        1        0-5  1.000000\n",
       "2371  138406    2       6        2       5-10  0.333333\n",
       "2372  138436    1       4        1        0-5  0.250000\n",
       "2373  138454    1       2        1        0-5  0.500000\n",
       "2374  138457    3       6        2       5-10  0.500000\n",
       "\n",
       "[2375 rows x 6 columns]"
      ]
     },
     "execution_count": 89,
     "metadata": {},
     "output_type": "execute_result"
    }
   ],
   "source": [
    "df_hit_count"
   ]
  },
  {
   "cell_type": "code",
   "execution_count": null,
   "metadata": {},
   "outputs": [],
   "source": []
  }
 ],
 "metadata": {
  "kernelspec": {
   "display_name": "Python 3",
   "language": "python",
   "name": "python3"
  },
  "language_info": {
   "codemirror_mode": {
    "name": "ipython",
    "version": 3
   },
   "file_extension": ".py",
   "mimetype": "text/x-python",
   "name": "python",
   "nbconvert_exporter": "python",
   "pygments_lexer": "ipython3",
   "version": "3.6.9"
  }
 },
 "nbformat": 4,
 "nbformat_minor": 2
}
