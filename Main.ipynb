{
 "cells": [
  {
   "cell_type": "code",
   "execution_count": 1,
   "metadata": {},
   "outputs": [],
   "source": [
    "import pandas as pd\n",
    "import numpy as np\n",
    "from modules import data_sampling, SimRank, evaluation\n",
    "from sklearn.model_selection import train_test_split"
   ]
  },
  {
   "cell_type": "markdown",
   "metadata": {},
   "source": [
    "# Loading & Manipulating Data"
   ]
  },
  {
   "cell_type": "code",
   "execution_count": 19,
   "metadata": {},
   "outputs": [],
   "source": [
    "# Load data\n",
    "ratings = pd.read_csv('ratings.csv')\n",
    "tags = pd.read_csv('genome-scores.csv')"
   ]
  },
  {
   "cell_type": "code",
   "execution_count": 3,
   "metadata": {},
   "outputs": [],
   "source": [
    "# Keep movies have tags\n",
    "# set threhod when using jaccard sim\n",
    "tags = tags[tags.relevance > 0.5]\n",
    "\n",
    "ratings, tags = data_sampling.align_items(ratings, tags)"
   ]
  },
  {
   "cell_type": "code",
   "execution_count": 4,
   "metadata": {},
   "outputs": [
    {
     "name": "stdout",
     "output_type": "stream",
     "text": [
      "number of users: 2000\n",
      "number of items: 200\n",
      "number of ratings: 68263\n"
     ]
    }
   ],
   "source": [
    "# sampling\n",
    "rating_sample = data_sampling.sample_df(ratings, user_sample_n = 2000, item_sample_n = 200)"
   ]
  },
  {
   "cell_type": "code",
   "execution_count": 5,
   "metadata": {},
   "outputs": [],
   "source": [
    "# Train test split\n",
    "rating_train, rating_test = train_test_split(rating_sample, test_size=0.10, random_state=42)"
   ]
  },
  {
   "cell_type": "code",
   "execution_count": 2,
   "metadata": {},
   "outputs": [
    {
     "data": {
      "text/html": [
       "<div>\n",
       "<style scoped>\n",
       "    .dataframe tbody tr th:only-of-type {\n",
       "        vertical-align: middle;\n",
       "    }\n",
       "\n",
       "    .dataframe tbody tr th {\n",
       "        vertical-align: top;\n",
       "    }\n",
       "\n",
       "    .dataframe thead th {\n",
       "        text-align: right;\n",
       "    }\n",
       "</style>\n",
       "<table border=\"1\" class=\"dataframe\">\n",
       "  <thead>\n",
       "    <tr style=\"text-align: right;\">\n",
       "      <th></th>\n",
       "      <th>userId</th>\n",
       "      <th>movieId</th>\n",
       "      <th>rating</th>\n",
       "    </tr>\n",
       "  </thead>\n",
       "  <tbody>\n",
       "    <tr>\n",
       "      <td>0</td>\n",
       "      <td>A</td>\n",
       "      <td>1</td>\n",
       "      <td>5</td>\n",
       "    </tr>\n",
       "    <tr>\n",
       "      <td>1</td>\n",
       "      <td>A</td>\n",
       "      <td>2</td>\n",
       "      <td>5</td>\n",
       "    </tr>\n",
       "    <tr>\n",
       "      <td>2</td>\n",
       "      <td>B</td>\n",
       "      <td>1</td>\n",
       "      <td>1</td>\n",
       "    </tr>\n",
       "    <tr>\n",
       "      <td>3</td>\n",
       "      <td>B</td>\n",
       "      <td>2</td>\n",
       "      <td>1</td>\n",
       "    </tr>\n",
       "    <tr>\n",
       "      <td>4</td>\n",
       "      <td>B</td>\n",
       "      <td>3</td>\n",
       "      <td>5</td>\n",
       "    </tr>\n",
       "    <tr>\n",
       "      <td>5</td>\n",
       "      <td>C</td>\n",
       "      <td>3</td>\n",
       "      <td>3</td>\n",
       "    </tr>\n",
       "  </tbody>\n",
       "</table>\n",
       "</div>"
      ],
      "text/plain": [
       "  userId  movieId  rating\n",
       "0      A        1       5\n",
       "1      A        2       5\n",
       "2      B        1       1\n",
       "3      B        2       1\n",
       "4      B        3       5\n",
       "5      C        3       3"
      ]
     },
     "execution_count": 2,
     "metadata": {},
     "output_type": "execute_result"
    }
   ],
   "source": [
    "e = [['A', 1, 5], ['A', 2, 5], ['B', 1, 1], ['B', 2, 1], ['B', 3, 5], ['C', 3, 3]]\n",
    "e = pd.DataFrame(e, columns = ['userId', 'movieId', 'rating'])\n",
    "e"
   ]
  },
  {
   "cell_type": "code",
   "execution_count": 3,
   "metadata": {},
   "outputs": [],
   "source": [
    "wbs = SimRank.weighted_bipartite_simrank()"
   ]
  },
  {
   "cell_type": "code",
   "execution_count": 4,
   "metadata": {},
   "outputs": [
    {
     "name": "stdout",
     "output_type": "stream",
     "text": [
      "User count: 3, item count: 3\n",
      "Initializing user-W matrix...\n",
      "Finished in 0.002385854721069336s!\n",
      "Initializing item-W matrix...\n",
      "Finished in 0.001499176025390625s!\n",
      "Initializing user evidence matrix...\n",
      "Finished in 0.005595207214355469s!\n",
      "Initializing item evidence matrix...\n",
      "Finished in 0.01641392707824707s!\n",
      "Iteration 1 / 100 start:\n",
      "GPU failed, trying with CPU...\n",
      "S_user updated in 0.0002570152282714844, S_item updated in 0.00011301040649414062!\n",
      "Iteration 2 / 100 start:\n",
      "GPU failed, trying with CPU...\n",
      "S_user updated in 5.1021575927734375e-05, S_item updated in 5.793571472167969e-05!\n",
      "Converged at iteration 2, break!\n"
     ]
    }
   ],
   "source": [
    "wbs.fit(e)"
   ]
  },
  {
   "cell_type": "code",
   "execution_count": 47,
   "metadata": {},
   "outputs": [
    {
     "data": {
      "text/html": [
       "<div>\n",
       "<style scoped>\n",
       "    .dataframe tbody tr th:only-of-type {\n",
       "        vertical-align: middle;\n",
       "    }\n",
       "\n",
       "    .dataframe tbody tr th {\n",
       "        vertical-align: top;\n",
       "    }\n",
       "\n",
       "    .dataframe thead th {\n",
       "        text-align: right;\n",
       "    }\n",
       "</style>\n",
       "<table border=\"1\" class=\"dataframe\">\n",
       "  <thead>\n",
       "    <tr style=\"text-align: right;\">\n",
       "      <th></th>\n",
       "      <th>movieId</th>\n",
       "      <th>tagId</th>\n",
       "      <th>relevance</th>\n",
       "    </tr>\n",
       "  </thead>\n",
       "  <tbody>\n",
       "    <tr>\n",
       "      <td>0</td>\n",
       "      <td>1</td>\n",
       "      <td>1</td>\n",
       "      <td>1</td>\n",
       "    </tr>\n",
       "    <tr>\n",
       "      <td>1</td>\n",
       "      <td>1</td>\n",
       "      <td>2</td>\n",
       "      <td>1</td>\n",
       "    </tr>\n",
       "    <tr>\n",
       "      <td>2</td>\n",
       "      <td>1</td>\n",
       "      <td>3</td>\n",
       "      <td>1</td>\n",
       "    </tr>\n",
       "    <tr>\n",
       "      <td>3</td>\n",
       "      <td>1</td>\n",
       "      <td>4</td>\n",
       "      <td>0</td>\n",
       "    </tr>\n",
       "    <tr>\n",
       "      <td>4</td>\n",
       "      <td>2</td>\n",
       "      <td>1</td>\n",
       "      <td>1</td>\n",
       "    </tr>\n",
       "    <tr>\n",
       "      <td>5</td>\n",
       "      <td>2</td>\n",
       "      <td>2</td>\n",
       "      <td>1</td>\n",
       "    </tr>\n",
       "    <tr>\n",
       "      <td>6</td>\n",
       "      <td>2</td>\n",
       "      <td>3</td>\n",
       "      <td>1</td>\n",
       "    </tr>\n",
       "    <tr>\n",
       "      <td>7</td>\n",
       "      <td>2</td>\n",
       "      <td>4</td>\n",
       "      <td>0</td>\n",
       "    </tr>\n",
       "    <tr>\n",
       "      <td>8</td>\n",
       "      <td>3</td>\n",
       "      <td>1</td>\n",
       "      <td>1</td>\n",
       "    </tr>\n",
       "    <tr>\n",
       "      <td>9</td>\n",
       "      <td>3</td>\n",
       "      <td>2</td>\n",
       "      <td>0</td>\n",
       "    </tr>\n",
       "    <tr>\n",
       "      <td>10</td>\n",
       "      <td>3</td>\n",
       "      <td>3</td>\n",
       "      <td>0</td>\n",
       "    </tr>\n",
       "    <tr>\n",
       "      <td>11</td>\n",
       "      <td>3</td>\n",
       "      <td>4</td>\n",
       "      <td>1</td>\n",
       "    </tr>\n",
       "  </tbody>\n",
       "</table>\n",
       "</div>"
      ],
      "text/plain": [
       "    movieId  tagId  relevance\n",
       "0         1      1          1\n",
       "1         1      2          1\n",
       "2         1      3          1\n",
       "3         1      4          0\n",
       "4         2      1          1\n",
       "5         2      2          1\n",
       "6         2      3          1\n",
       "7         2      4          0\n",
       "8         3      1          1\n",
       "9         3      2          0\n",
       "10        3      3          0\n",
       "11        3      4          1"
      ]
     },
     "execution_count": 47,
     "metadata": {},
     "output_type": "execute_result"
    }
   ],
   "source": [
    "t = [\n",
    "        [1, 1, 1], [1, 2, 1], [1, 3, 1], [1,4,0],\n",
    "        [2, 1, 1], [2, 2, 1], [2, 3, 1], [2,4,0],\n",
    "        [3, 1, 1], [3, 2, 0], [3, 3, 0], [3,4,1],\n",
    "    ]\n",
    "t = pd.DataFrame(t, columns = ['movieId', 'tagId', 'relevance'])\n",
    "t"
   ]
  },
  {
   "cell_type": "code",
   "execution_count": 46,
   "metadata": {},
   "outputs": [
    {
     "data": {
      "text/html": [
       "<div>\n",
       "<style scoped>\n",
       "    .dataframe tbody tr th:only-of-type {\n",
       "        vertical-align: middle;\n",
       "    }\n",
       "\n",
       "    .dataframe tbody tr th {\n",
       "        vertical-align: top;\n",
       "    }\n",
       "\n",
       "    .dataframe thead th {\n",
       "        text-align: right;\n",
       "    }\n",
       "</style>\n",
       "<table border=\"1\" class=\"dataframe\">\n",
       "  <thead>\n",
       "    <tr style=\"text-align: right;\">\n",
       "      <th>movieId</th>\n",
       "      <th>1</th>\n",
       "      <th>2</th>\n",
       "      <th>3</th>\n",
       "    </tr>\n",
       "    <tr>\n",
       "      <th>movieId</th>\n",
       "      <th></th>\n",
       "      <th></th>\n",
       "      <th></th>\n",
       "    </tr>\n",
       "  </thead>\n",
       "  <tbody>\n",
       "    <tr>\n",
       "      <td>1</td>\n",
       "      <td>100000.000000</td>\n",
       "      <td>0.004877</td>\n",
       "      <td>0.189714</td>\n",
       "    </tr>\n",
       "    <tr>\n",
       "      <td>2</td>\n",
       "      <td>0.004877</td>\n",
       "      <td>100000.000000</td>\n",
       "      <td>0.189714</td>\n",
       "    </tr>\n",
       "    <tr>\n",
       "      <td>3</td>\n",
       "      <td>0.189714</td>\n",
       "      <td>0.189714</td>\n",
       "      <td>100000.000000</td>\n",
       "    </tr>\n",
       "  </tbody>\n",
       "</table>\n",
       "</div>"
      ],
      "text/plain": [
       "movieId              1              2              3\n",
       "movieId                                             \n",
       "1        100000.000000       0.004877       0.189714\n",
       "2             0.004877  100000.000000       0.189714\n",
       "3             0.189714       0.189714  100000.000000"
      ]
     },
     "execution_count": 46,
     "metadata": {},
     "output_type": "execute_result"
    }
   ],
   "source": [
    "wbs.S_item*100000"
   ]
  },
  {
   "cell_type": "code",
   "execution_count": 48,
   "metadata": {},
   "outputs": [],
   "source": [
    "tsr_jac = SimRank.tag_simrank()"
   ]
  },
  {
   "cell_type": "code",
   "execution_count": 49,
   "metadata": {},
   "outputs": [
    {
     "name": "stdout",
     "output_type": "stream",
     "text": [
      "User count: 3, item count: 3\n",
      "Initializing tab-based item similarity matrix...\n",
      "Finished in 0.019143104553222656s!\n",
      "Initializing user-W matrix...\n",
      "Finished in 0.005758047103881836s!\n",
      "Initializing item-W matrix...\n",
      "Finished in 0.0043010711669921875s!\n",
      "Initializing user evidence matrix...\n",
      "Finished in 0.013767242431640625s!\n",
      "Initializing item evidence matrix...\n",
      "Finished in 0.014946937561035156s!\n",
      "Iteration 1 / 100 start:\n",
      "GPU failed, trying with CPU...\n",
      "S_user updated in 5.2928924560546875e-05, S_item updated in 3.695487976074219e-05!\n",
      "Converged at iteration 1, break!\n"
     ]
    }
   ],
   "source": [
    "tsr_jac.fit(e, t, C_item = 0.8, C_user = 0.8, lbd = 0.000001, iterations = 100, eps = 1e-4, how = 'jac')"
   ]
  },
  {
   "cell_type": "code",
   "execution_count": 50,
   "metadata": {},
   "outputs": [
    {
     "data": {
      "text/html": [
       "<div>\n",
       "<style scoped>\n",
       "    .dataframe tbody tr th:only-of-type {\n",
       "        vertical-align: middle;\n",
       "    }\n",
       "\n",
       "    .dataframe tbody tr th {\n",
       "        vertical-align: top;\n",
       "    }\n",
       "\n",
       "    .dataframe thead th {\n",
       "        text-align: right;\n",
       "    }\n",
       "</style>\n",
       "<table border=\"1\" class=\"dataframe\">\n",
       "  <thead>\n",
       "    <tr style=\"text-align: right;\">\n",
       "      <th>movieId</th>\n",
       "      <th>1</th>\n",
       "      <th>2</th>\n",
       "      <th>3</th>\n",
       "    </tr>\n",
       "    <tr>\n",
       "      <th>movieId</th>\n",
       "      <th></th>\n",
       "      <th></th>\n",
       "      <th></th>\n",
       "    </tr>\n",
       "  </thead>\n",
       "  <tbody>\n",
       "    <tr>\n",
       "      <td>1</td>\n",
       "      <td>1000000.000000</td>\n",
       "      <td>1.110329</td>\n",
       "      <td>0.317483</td>\n",
       "    </tr>\n",
       "    <tr>\n",
       "      <td>2</td>\n",
       "      <td>1.110329</td>\n",
       "      <td>1000000.000000</td>\n",
       "      <td>0.317483</td>\n",
       "    </tr>\n",
       "    <tr>\n",
       "      <td>3</td>\n",
       "      <td>0.317483</td>\n",
       "      <td>0.317483</td>\n",
       "      <td>1000000.000000</td>\n",
       "    </tr>\n",
       "  </tbody>\n",
       "</table>\n",
       "</div>"
      ],
      "text/plain": [
       "movieId               1               2               3\n",
       "movieId                                                \n",
       "1        1000000.000000        1.110329        0.317483\n",
       "2              1.110329  1000000.000000        0.317483\n",
       "3              0.317483        0.317483  1000000.000000"
      ]
     },
     "execution_count": 50,
     "metadata": {},
     "output_type": "execute_result"
    }
   ],
   "source": [
    "tsr_jac.S_item*1000000"
   ]
  },
  {
   "cell_type": "code",
   "execution_count": null,
   "metadata": {},
   "outputs": [],
   "source": []
  },
  {
   "cell_type": "markdown",
   "metadata": {},
   "source": [
    "# TagSimRank"
   ]
  },
  {
   "cell_type": "code",
   "execution_count": 60,
   "metadata": {},
   "outputs": [],
   "source": [
    "# Init instance\n",
    "tsr_jac = SimRank.tag_simrank()"
   ]
  },
  {
   "cell_type": "code",
   "execution_count": 7,
   "metadata": {},
   "outputs": [
    {
     "name": "stdout",
     "output_type": "stream",
     "text": [
      "User count: 2000, item count: 200\n",
      "Initializing tab-based item similarity matrix...\n",
      "Finished in 60.418962240219116s!\n",
      "Initializing user-W matrix...\n",
      "Finished in 0.05829787254333496s!\n",
      "Initializing item-W matrix...\n",
      "Finished in 0.012812137603759766s!\n",
      "Initializing user evidence matrix...\n",
      "Finished in 1.0216031074523926s!\n",
      "Initializing item evidence matrix...\n",
      "Finished in 1.747237205505371s!\n",
      "Iteration 1 / 100 start:\n",
      "GPU failed, trying with CPU...\n",
      "S_user updated in 0.03529977798461914, S_item updated in 0.06808924674987793!\n",
      "Iteration 2 / 100 start:\n",
      "GPU failed, trying with CPU...\n",
      "S_user updated in 0.04143214225769043, S_item updated in 0.07285308837890625!\n",
      "Iteration 3 / 100 start:\n",
      "GPU failed, trying with CPU...\n",
      "S_user updated in 0.03964519500732422, S_item updated in 0.05158877372741699!\n",
      "Converged at iteration 3, break!\n"
     ]
    }
   ],
   "source": [
    "# train\n",
    "tsr_jac.fit(rating_train, tags, C_item = 0.8, C_user = 0.8, lbd = 0.3, iterations = 100, eps = 1e-4, how = 'jac')"
   ]
  },
  {
   "cell_type": "code",
   "execution_count": 8,
   "metadata": {},
   "outputs": [
    {
     "name": "stdout",
     "output_type": "stream",
     "text": [
      "Count of cold start user: 0\n",
      "Count of cold start item: 0\n",
      "191/1906 completed\n",
      "382/1906 completed\n",
      "572/1906 completed\n",
      "763/1906 completed\n",
      "953/1906 completed\n",
      "1144/1906 completed\n",
      "1335/1906 completed\n",
      "1525/1906 completed\n",
      "1716/1906 completed\n",
      "1906/1906 completed\n"
     ]
    }
   ],
   "source": [
    "# predict\n",
    "tsr_jac_pred = tsr_jac.cf_recommendation(rating_test)"
   ]
  },
  {
   "cell_type": "code",
   "execution_count": 9,
   "metadata": {},
   "outputs": [],
   "source": [
    "user_grouped = evaluation.group(rating_test, 'user')"
   ]
  },
  {
   "cell_type": "code",
   "execution_count": 10,
   "metadata": {},
   "outputs": [
    {
     "name": "stdout",
     "output_type": "stream",
     "text": [
      "Precision: 0.07177334732423926\n",
      "Recall: 0.20688978882840373\n",
      "ndcg: 0.16541804108139532\n"
     ]
    }
   ],
   "source": [
    "# Evaluation\n",
    "tsr_precision = evaluation.precision_at_k(\n",
    "    rating_test,\n",
    "    tsr_jac_pred,\n",
    "    user_grouped = user_grouped\n",
    ")\n",
    "print(f\"Precision: {tsr_precision}\")\n",
    "tsr_recall = evaluation.recall_at_k(\n",
    "    rating_test,\n",
    "    tsr_jac_pred,\n",
    "    user_grouped = user_grouped\n",
    ")\n",
    "print(f\"Recall: {tsr_recall}\")\n",
    "tsr_ndcg = evaluation.ndcg_at_k(\n",
    "    rating_test,\n",
    "    tsr_jac_pred,\n",
    "    user_grouped = user_grouped\n",
    ")\n",
    "print(f\"ndcg: {tsr_ndcg}\")"
   ]
  },
  {
   "cell_type": "code",
   "execution_count": null,
   "metadata": {},
   "outputs": [],
   "source": [
    "# aggrate evaluation\n",
    "precision, recall, ndcg = evaluation.evaluation_at_k(\n",
    "    rating_test,\n",
    "    tsr_jac_pred,\n",
    "    user_grouped = user_grouped\n",
    ")"
   ]
  },
  {
   "cell_type": "code",
   "execution_count": 11,
   "metadata": {},
   "outputs": [
    {
     "name": "stdout",
     "output_type": "stream",
     "text": [
      "Recall for each user group:  {'0-5': 0.0584, '5-10': 0.1335, '10-50': 0.232}\n"
     ]
    },
    {
     "name": "stderr",
     "output_type": "stream",
     "text": [
      "/Users/mac/anaconda2/envs/py36/lib/python3.6/site-packages/seaborn/_decorators.py:43: FutureWarning: Pass the following variables as keyword args: x, y. From version 0.12, the only valid positional argument will be `data`, and passing other arguments without an explicit keyword will result in an error or misinterpretation.\n",
      "  FutureWarning\n"
     ]
    },
    {
     "data": {
      "image/png": "[encoded data removed]",
      "text/plain": [
       "<Figure size 432x288 with 1 Axes>"
      ]
     },
     "metadata": {
      "needs_background": "light"
     },
     "output_type": "display_data"
    },
    {
     "data": {
      "text/plain": [
       "{'0-5': 0.0584, '5-10': 0.1335, '10-50': 0.232}"
      ]
     },
     "execution_count": 11,
     "metadata": {},
     "output_type": "execute_result"
    }
   ],
   "source": [
    "evaluation.precision_over_user_group(rating_test,\n",
    "    tsr_jac_pred,\n",
    "    user_grouped = user_grouped)"
   ]
  },
  {
   "cell_type": "code",
   "execution_count": 12,
   "metadata": {},
   "outputs": [
    {
     "name": "stdout",
     "output_type": "stream",
     "text": [
      "Recall for each user group:  {'0-5': 0.2096, '5-10': 0.1939, '10-50': 0.1815}\n"
     ]
    },
    {
     "name": "stderr",
     "output_type": "stream",
     "text": [
      "/Users/mac/anaconda2/envs/py36/lib/python3.6/site-packages/seaborn/_decorators.py:43: FutureWarning: Pass the following variables as keyword args: x, y. From version 0.12, the only valid positional argument will be `data`, and passing other arguments without an explicit keyword will result in an error or misinterpretation.\n",
      "  FutureWarning\n"
     ]
    },
    {
     "data": {
      "image/png": "[encoded data removed]",
      "text/plain": [
       "<Figure size 432x288 with 1 Axes>"
      ]
     },
     "metadata": {
      "needs_background": "light"
     },
     "output_type": "display_data"
    },
    {
     "data": {
      "text/plain": [
       "{'0-5': 0.2096, '5-10': 0.1939, '10-50': 0.1815}"
      ]
     },
     "execution_count": 12,
     "metadata": {},
     "output_type": "execute_result"
    }
   ],
   "source": [
    "evaluation.recall_over_user_group(rating_test,\n",
    "    tsr_jac_pred,\n",
    "    user_grouped = user_grouped)"
   ]
  },
  {
   "cell_type": "code",
   "execution_count": 13,
   "metadata": {},
   "outputs": [
    {
     "name": "stdout",
     "output_type": "stream",
     "text": [
      "Precision: 0.10493204283360792\n",
      "Recall: 0.17899064676510162\n",
      "Recall: 0.17582168273247448\n"
     ]
    }
   ],
   "source": [
    "# Evaluation\n",
    "tsr_precision = evaluation.precision_at_k(\n",
    "    rating_test,\n",
    "    tsr_pred,\n",
    "    user_grouped = user_grouped\n",
    ")\n",
    "print(f\"Precision: {tsr_precision}\")\n",
    "tsr_recall = evaluation.recall_at_k(\n",
    "    rating_test,\n",
    "    tsr_pred,\n",
    "    user_grouped = user_grouped\n",
    ")\n",
    "print(f\"Recall: {tsr_recall}\")\n",
    "tsr_ndcg = evaluation.ndcg_at_k(\n",
    "    rating_test,\n",
    "    tsr_pred,\n",
    "    user_grouped = user_grouped\n",
    ")\n",
    "print(f\"ndcg: {tsr_ndcg}\")"
   ]
  },
  {
   "cell_type": "markdown",
   "metadata": {},
   "source": [
    "# Weighted Bipartite SimRank"
   ]
  },
  {
   "cell_type": "code",
   "execution_count": 13,
   "metadata": {},
   "outputs": [],
   "source": [
    "# Init instance\n",
    "wbs = SimRank.weighted_bipartite_simrank()"
   ]
  },
  {
   "cell_type": "code",
   "execution_count": 14,
   "metadata": {},
   "outputs": [
    {
     "name": "stdout",
     "output_type": "stream",
     "text": [
      "User count: 2000, item count: 200\n",
      "Initializing user-W matrix...\n",
      "Finished in 0.05991005897521973s!\n",
      "Initializing item-W matrix...\n",
      "Finished in 0.013983964920043945s!\n",
      "Initializing user evidence matrix...\n",
      "Finished in 1.1156260967254639s!\n",
      "Initializing item evidence matrix...\n",
      "Finished in 1.743818998336792s!\n",
      "Iteration 1 / 100 start:\n",
      "GPU failed, trying with CPU...\n",
      "S_user updated in 0.03458380699157715, S_item updated in 0.06656098365783691!\n",
      "Iteration 2 / 100 start:\n",
      "GPU failed, trying with CPU...\n",
      "S_user updated in 0.03442811965942383, S_item updated in 0.07073688507080078!\n",
      "Iteration 3 / 100 start:\n",
      "GPU failed, trying with CPU...\n",
      "S_user updated in 0.055589914321899414, S_item updated in 0.05883431434631348!\n",
      "Converged at iteration 3, break!\n"
     ]
    }
   ],
   "source": [
    "wbs.fit(rating_train)"
   ]
  },
  {
   "cell_type": "code",
   "execution_count": 15,
   "metadata": {},
   "outputs": [
    {
     "name": "stdout",
     "output_type": "stream",
     "text": [
      "Count of cold start user: 0\n",
      "Count of cold start item: 0\n",
      "191/1906 completed\n",
      "382/1906 completed\n",
      "572/1906 completed\n",
      "763/1906 completed\n",
      "953/1906 completed\n",
      "1144/1906 completed\n",
      "1335/1906 completed\n",
      "1525/1906 completed\n",
      "1716/1906 completed\n",
      "1906/1906 completed\n"
     ]
    }
   ],
   "source": [
    "wbs_pred = wbs.cf_recommendation(rating_test)"
   ]
  },
  {
   "cell_type": "code",
   "execution_count": 16,
   "metadata": {},
   "outputs": [
    {
     "name": "stdout",
     "output_type": "stream",
     "text": [
      "Precision: 0.07738719832109131\n",
      "Recall: 0.21940910902086141\n",
      "ndcg: 0.1733192177928342\n"
     ]
    }
   ],
   "source": [
    "# Evaluation\n",
    "wbs_precision = evaluation.precision_at_k(\n",
    "    rating_test,\n",
    "    wbs_pred,\n",
    "    user_grouped = user_grouped\n",
    ")\n",
    "print(f\"Precision: {wbs_precision}\")\n",
    "wbs_recall = evaluation.recall_at_k(\n",
    "    rating_test,\n",
    "    wbs_pred,\n",
    "    user_grouped = user_grouped\n",
    ")\n",
    "print(f\"Recall: {wbs_recall}\")\n",
    "wbs_ndcg = evaluation.ndcg_at_k(\n",
    "    rating_test,\n",
    "    wbs_pred,\n",
    "    user_grouped = user_grouped\n",
    ")\n",
    "print(f\"ndcg: {wbs_ndcg}\")"
   ]
  },
  {
   "cell_type": "code",
   "execution_count": 17,
   "metadata": {},
   "outputs": [
    {
     "name": "stdout",
     "output_type": "stream",
     "text": [
      "Recall for each user group:  {'0-5': 0.0622, '5-10': 0.148, '10-50': 0.256}\n"
     ]
    },
    {
     "name": "stderr",
     "output_type": "stream",
     "text": [
      "/Users/mac/anaconda2/envs/py36/lib/python3.6/site-packages/seaborn/_decorators.py:43: FutureWarning: Pass the following variables as keyword args: x, y. From version 0.12, the only valid positional argument will be `data`, and passing other arguments without an explicit keyword will result in an error or misinterpretation.\n",
      "  FutureWarning\n"
     ]
    },
    {
     "data": {
      "image/png": "[encoded data removed]",
      "text/plain": [
       "<Figure size 432x288 with 1 Axes>"
      ]
     },
     "metadata": {
      "needs_background": "light"
     },
     "output_type": "display_data"
    },
    {
     "data": {
      "text/plain": [
       "{'0-5': 0.0622, '5-10': 0.148, '10-50': 0.256}"
      ]
     },
     "execution_count": 17,
     "metadata": {},
     "output_type": "execute_result"
    }
   ],
   "source": [
    "evaluation.precision_over_user_group(\n",
    "    rating_test,\n",
    "    wbs_pred,\n",
    "    user_grouped = user_grouped)"
   ]
  },
  {
   "cell_type": "code",
   "execution_count": 18,
   "metadata": {},
   "outputs": [
    {
     "name": "stdout",
     "output_type": "stream",
     "text": [
      "Recall for each user group:  {'0-5': 0.2203, '5-10': 0.2157, '10-50': 0.2015}\n"
     ]
    },
    {
     "name": "stderr",
     "output_type": "stream",
     "text": [
      "/Users/mac/anaconda2/envs/py36/lib/python3.6/site-packages/seaborn/_decorators.py:43: FutureWarning: Pass the following variables as keyword args: x, y. From version 0.12, the only valid positional argument will be `data`, and passing other arguments without an explicit keyword will result in an error or misinterpretation.\n",
      "  FutureWarning\n"
     ]
    },
    {
     "data": {
      "image/png": "[encoded data removed]",
      "text/plain": [
       "<Figure size 432x288 with 1 Axes>"
      ]
     },
     "metadata": {
      "needs_background": "light"
     },
     "output_type": "display_data"
    },
    {
     "data": {
      "text/plain": [
       "{'0-5': 0.2203, '5-10': 0.2157, '10-50': 0.2015}"
      ]
     },
     "execution_count": 18,
     "metadata": {},
     "output_type": "execute_result"
    }
   ],
   "source": [
    "evaluation.recall_over_user_group(\n",
    "    rating_test,\n",
    "    wbs_pred,\n",
    "    user_grouped = user_grouped)"
   ]
  },
  {
   "cell_type": "code",
   "execution_count": 2,
   "metadata": {},
   "outputs": [],
   "source": [
    "import pickle as pkl\n",
    "import pandas as pd"
   ]
  },
  {
   "cell_type": "code",
   "execution_count": 49,
   "metadata": {},
   "outputs": [],
   "source": [
    "f = open('grid_search_reversed_rst.pkl', 'rb')\n",
    "grid_search_reversed_rst = pkl.load(f)\n",
    "f.close()"
   ]
  },
  {
   "cell_type": "code",
   "execution_count": 50,
   "metadata": {},
   "outputs": [
    {
     "data": {
      "text/html": [
       "<div>\n",
       "<style scoped>\n",
       "    .dataframe tbody tr th:only-of-type {\n",
       "        vertical-align: middle;\n",
       "    }\n",
       "\n",
       "    .dataframe tbody tr th {\n",
       "        vertical-align: top;\n",
       "    }\n",
       "\n",
       "    .dataframe thead th {\n",
       "        text-align: right;\n",
       "    }\n",
       "</style>\n",
       "<table border=\"1\" class=\"dataframe\">\n",
       "  <thead>\n",
       "    <tr style=\"text-align: right;\">\n",
       "      <th></th>\n",
       "      <th>lbd</th>\n",
       "      <th>cutoff</th>\n",
       "      <th>k_neighbors</th>\n",
       "      <th>k_matric</th>\n",
       "      <th>precision_tag_cos</th>\n",
       "      <th>recall_tag_cos</th>\n",
       "      <th>ndcg_tag_cos</th>\n",
       "      <th>precision_tag_jac</th>\n",
       "      <th>recall_tag_jac</th>\n",
       "      <th>ndcg_tag_jac</th>\n",
       "      <th>...</th>\n",
       "      <th>recall_cf</th>\n",
       "      <th>ndcg_cf</th>\n",
       "      <th>group_precision_tag_cos</th>\n",
       "      <th>group_recall_tag_cos</th>\n",
       "      <th>group_precision_tag_jac</th>\n",
       "      <th>group_recall_tag_jac</th>\n",
       "      <th>group_precision_wbs</th>\n",
       "      <th>group_recall_wbs</th>\n",
       "      <th>group_precision_cf</th>\n",
       "      <th>group_recall_cf</th>\n",
       "    </tr>\n",
       "  </thead>\n",
       "  <tbody>\n",
       "    <tr>\n",
       "      <td>0</td>\n",
       "      <td>0.9</td>\n",
       "      <td>0.5</td>\n",
       "      <td>10</td>\n",
       "      <td>1</td>\n",
       "      <td>0.192384</td>\n",
       "      <td>0.035498</td>\n",
       "      <td>0.192384</td>\n",
       "      <td>0.207832</td>\n",
       "      <td>0.038551</td>\n",
       "      <td>0.207832</td>\n",
       "      <td>...</td>\n",
       "      <td>0.043044</td>\n",
       "      <td>0.268188</td>\n",
       "      <td>{'0-10': 0.0682, '10-50': 0.1717, '50-100': 0....</td>\n",
       "      <td>{'0-10': 0.0353, '10-50': 0.0396, '50-100': 0....</td>\n",
       "      <td>{'0-10': 0.0695, '10-50': 0.1824, '50-100': 0....</td>\n",
       "      <td>{'0-10': 0.0376, '10-50': 0.0433, '50-100': 0....</td>\n",
       "      <td>{'0-10': 0.0695, '10-50': 0.139, '50-100': 0.2...</td>\n",
       "      <td>{'0-10': 0.0359, '10-50': 0.0322, '50-100': 0....</td>\n",
       "      <td>{'0-10': 0.0675, '10-50': 0.2129, '50-100': 0....</td>\n",
       "      <td>{'0-10': 0.0364, '10-50': 0.0476, '50-100': 0....</td>\n",
       "    </tr>\n",
       "    <tr>\n",
       "      <td>1</td>\n",
       "      <td>0.9</td>\n",
       "      <td>0.5</td>\n",
       "      <td>10</td>\n",
       "      <td>2</td>\n",
       "      <td>0.164272</td>\n",
       "      <td>0.057093</td>\n",
       "      <td>0.173357</td>\n",
       "      <td>0.175498</td>\n",
       "      <td>0.065846</td>\n",
       "      <td>0.186815</td>\n",
       "      <td>...</td>\n",
       "      <td>0.071118</td>\n",
       "      <td>0.246191</td>\n",
       "      <td>{'0-10': 0.0556, '10-50': 0.141, '50-100': 0.2...</td>\n",
       "      <td>{'0-10': 0.0572, '10-50': 0.0623, '50-100': 0....</td>\n",
       "      <td>{'0-10': 0.0652, '10-50': 0.1523, '50-100': 0....</td>\n",
       "      <td>{'0-10': 0.0699, '10-50': 0.0714, '50-100': 0....</td>\n",
       "      <td>{'0-10': 0.0497, '10-50': 0.1087, '50-100': 0....</td>\n",
       "      <td>{'0-10': 0.0505, '10-50': 0.0499, '50-100': 0....</td>\n",
       "      <td>{'0-10': 0.054, '10-50': 0.1782, '50-100': 0.4...</td>\n",
       "      <td>{'0-10': 0.0554, '10-50': 0.0786, '50-100': 0....</td>\n",
       "    </tr>\n",
       "    <tr>\n",
       "      <td>2</td>\n",
       "      <td>0.9</td>\n",
       "      <td>0.5</td>\n",
       "      <td>10</td>\n",
       "      <td>3</td>\n",
       "      <td>0.146698</td>\n",
       "      <td>0.071786</td>\n",
       "      <td>0.164123</td>\n",
       "      <td>0.154901</td>\n",
       "      <td>0.085176</td>\n",
       "      <td>0.176425</td>\n",
       "      <td>...</td>\n",
       "      <td>0.092149</td>\n",
       "      <td>0.231212</td>\n",
       "      <td>{'0-10': 0.0466, '10-50': 0.1195, '50-100': 0....</td>\n",
       "      <td>{'0-10': 0.07, '10-50': 0.0771, '50-100': 0.04...</td>\n",
       "      <td>{'0-10': 0.0565, '10-50': 0.1345, '50-100': 0....</td>\n",
       "      <td>{'0-10': 0.0893, '10-50': 0.092, '50-100': 0.0...</td>\n",
       "      <td>{'0-10': 0.0415, '10-50': 0.0947, '50-100': 0....</td>\n",
       "      <td>{'0-10': 0.0629, '10-50': 0.0638, '50-100': 0....</td>\n",
       "      <td>{'0-10': 0.0475, '10-50': 0.1547, '50-100': 0....</td>\n",
       "      <td>{'0-10': 0.0731, '10-50': 0.1006, '50-100': 0....</td>\n",
       "    </tr>\n",
       "    <tr>\n",
       "      <td>3</td>\n",
       "      <td>0.9</td>\n",
       "      <td>0.5</td>\n",
       "      <td>10</td>\n",
       "      <td>4</td>\n",
       "      <td>0.133914</td>\n",
       "      <td>0.085148</td>\n",
       "      <td>0.159328</td>\n",
       "      <td>0.140650</td>\n",
       "      <td>0.100032</td>\n",
       "      <td>0.171602</td>\n",
       "      <td>...</td>\n",
       "      <td>0.108700</td>\n",
       "      <td>0.222727</td>\n",
       "      <td>{'0-10': 0.0407, '10-50': 0.1077, '50-100': 0....</td>\n",
       "      <td>{'0-10': 0.0798, '10-50': 0.092, '50-100': 0.0...</td>\n",
       "      <td>{'0-10': 0.0485, '10-50': 0.1209, '50-100': 0....</td>\n",
       "      <td>{'0-10': 0.1018, '10-50': 0.1085, '50-100': 0....</td>\n",
       "      <td>{'0-10': 0.0364, '10-50': 0.0838, '50-100': 0....</td>\n",
       "      <td>{'0-10': 0.073, '10-50': 0.0742, '50-100': 0.0...</td>\n",
       "      <td>{'0-10': 0.0412, '10-50': 0.1379, '50-100': 0....</td>\n",
       "      <td>{'0-10': 0.0842, '10-50': 0.1184, '50-100': 0....</td>\n",
       "    </tr>\n",
       "    <tr>\n",
       "      <td>4</td>\n",
       "      <td>0.9</td>\n",
       "      <td>0.5</td>\n",
       "      <td>10</td>\n",
       "      <td>5</td>\n",
       "      <td>0.123981</td>\n",
       "      <td>0.097698</td>\n",
       "      <td>0.157275</td>\n",
       "      <td>0.131561</td>\n",
       "      <td>0.115128</td>\n",
       "      <td>0.170931</td>\n",
       "      <td>...</td>\n",
       "      <td>0.123445</td>\n",
       "      <td>0.217375</td>\n",
       "      <td>{'0-10': 0.0375, '10-50': 0.097, '50-100': 0.1...</td>\n",
       "      <td>{'0-10': 0.0938, '10-50': 0.1034, '50-100': 0....</td>\n",
       "      <td>{'0-10': 0.0441, '10-50': 0.1117, '50-100': 0....</td>\n",
       "      <td>{'0-10': 0.116, '10-50': 0.1248, '50-100': 0.0...</td>\n",
       "      <td>{'0-10': 0.0334, '10-50': 0.0765, '50-100': 0....</td>\n",
       "      <td>{'0-10': 0.0843, '10-50': 0.0843, '50-100': 0....</td>\n",
       "      <td>{'0-10': 0.0364, '10-50': 0.1249, '50-100': 0....</td>\n",
       "      <td>{'0-10': 0.0931, '10-50': 0.1346, '50-100': 0....</td>\n",
       "    </tr>\n",
       "    <tr>\n",
       "      <td>...</td>\n",
       "      <td>...</td>\n",
       "      <td>...</td>\n",
       "      <td>...</td>\n",
       "      <td>...</td>\n",
       "      <td>...</td>\n",
       "      <td>...</td>\n",
       "      <td>...</td>\n",
       "      <td>...</td>\n",
       "      <td>...</td>\n",
       "      <td>...</td>\n",
       "      <td>...</td>\n",
       "      <td>...</td>\n",
       "      <td>...</td>\n",
       "      <td>...</td>\n",
       "      <td>...</td>\n",
       "      <td>...</td>\n",
       "      <td>...</td>\n",
       "      <td>...</td>\n",
       "      <td>...</td>\n",
       "      <td>...</td>\n",
       "      <td>...</td>\n",
       "    </tr>\n",
       "    <tr>\n",
       "      <td>175</td>\n",
       "      <td>0.9</td>\n",
       "      <td>0.1</td>\n",
       "      <td>80</td>\n",
       "      <td>6</td>\n",
       "      <td>0.151458</td>\n",
       "      <td>0.150301</td>\n",
       "      <td>0.213565</td>\n",
       "      <td>0.151189</td>\n",
       "      <td>0.151439</td>\n",
       "      <td>0.209790</td>\n",
       "      <td>...</td>\n",
       "      <td>0.171521</td>\n",
       "      <td>0.259619</td>\n",
       "      <td>{'0-10': 0.0446, '10-50': 0.123, '50-100': 0.2...</td>\n",
       "      <td>{'0-10': 0.1398, '10-50': 0.1637, '50-100': 0....</td>\n",
       "      <td>{'0-10': 0.0459, '10-50': 0.1224, '50-100': 0....</td>\n",
       "      <td>{'0-10': 0.1462, '10-50': 0.1628, '50-100': 0....</td>\n",
       "      <td>{'0-10': 0.043, '10-50': 0.1184, '50-100': 0.2...</td>\n",
       "      <td>{'0-10': 0.1349, '10-50': 0.1592, '50-100': 0....</td>\n",
       "      <td>{'0-10': 0.0434, '10-50': 0.1425, '50-100': 0....</td>\n",
       "      <td>{'0-10': 0.1376, '10-50': 0.1868, '50-100': 0....</td>\n",
       "    </tr>\n",
       "    <tr>\n",
       "      <td>176</td>\n",
       "      <td>0.9</td>\n",
       "      <td>0.1</td>\n",
       "      <td>80</td>\n",
       "      <td>7</td>\n",
       "      <td>0.141394</td>\n",
       "      <td>0.162442</td>\n",
       "      <td>0.212371</td>\n",
       "      <td>0.140650</td>\n",
       "      <td>0.161723</td>\n",
       "      <td>0.208185</td>\n",
       "      <td>...</td>\n",
       "      <td>0.184756</td>\n",
       "      <td>0.257894</td>\n",
       "      <td>{'0-10': 0.0406, '10-50': 0.1144, '50-100': 0....</td>\n",
       "      <td>{'0-10': 0.1493, '10-50': 0.1773, '50-100': 0....</td>\n",
       "      <td>{'0-10': 0.0412, '10-50': 0.1136, '50-100': 0....</td>\n",
       "      <td>{'0-10': 0.1526, '10-50': 0.1749, '50-100': 0....</td>\n",
       "      <td>{'0-10': 0.0393, '10-50': 0.1089, '50-100': 0....</td>\n",
       "      <td>{'0-10': 0.1441, '10-50': 0.17, '50-100': 0.09...</td>\n",
       "      <td>{'0-10': 0.0389, '10-50': 0.1325, '50-100': 0....</td>\n",
       "      <td>{'0-10': 0.1446, '10-50': 0.2006, '50-100': 0....</td>\n",
       "    </tr>\n",
       "    <tr>\n",
       "      <td>177</td>\n",
       "      <td>0.9</td>\n",
       "      <td>0.1</td>\n",
       "      <td>80</td>\n",
       "      <td>8</td>\n",
       "      <td>0.132455</td>\n",
       "      <td>0.171226</td>\n",
       "      <td>0.211182</td>\n",
       "      <td>0.131175</td>\n",
       "      <td>0.169736</td>\n",
       "      <td>0.206758</td>\n",
       "      <td>...</td>\n",
       "      <td>0.197295</td>\n",
       "      <td>0.256770</td>\n",
       "      <td>{'0-10': 0.0373, '10-50': 0.106, '50-100': 0.2...</td>\n",
       "      <td>{'0-10': 0.1568, '10-50': 0.1859, '50-100': 0....</td>\n",
       "      <td>{'0-10': 0.0377, '10-50': 0.1049, '50-100': 0....</td>\n",
       "      <td>{'0-10': 0.1594, '10-50': 0.1829, '50-100': 0....</td>\n",
       "      <td>{'0-10': 0.0363, '10-50': 0.1006, '50-100': 0....</td>\n",
       "      <td>{'0-10': 0.1549, '10-50': 0.179, '50-100': 0.1...</td>\n",
       "      <td>{'0-10': 0.0358, '10-50': 0.1246, '50-100': 0....</td>\n",
       "      <td>{'0-10': 0.1524, '10-50': 0.2144, '50-100': 0....</td>\n",
       "    </tr>\n",
       "    <tr>\n",
       "      <td>178</td>\n",
       "      <td>0.9</td>\n",
       "      <td>0.1</td>\n",
       "      <td>80</td>\n",
       "      <td>9</td>\n",
       "      <td>0.124943</td>\n",
       "      <td>0.180428</td>\n",
       "      <td>0.210958</td>\n",
       "      <td>0.123685</td>\n",
       "      <td>0.179072</td>\n",
       "      <td>0.206704</td>\n",
       "      <td>...</td>\n",
       "      <td>0.207155</td>\n",
       "      <td>0.256200</td>\n",
       "      <td>{'0-10': 0.0347, '10-50': 0.099, '50-100': 0.1...</td>\n",
       "      <td>{'0-10': 0.1658, '10-50': 0.1947, '50-100': 0....</td>\n",
       "      <td>{'0-10': 0.0351, '10-50': 0.0989, '50-100': 0....</td>\n",
       "      <td>{'0-10': 0.1655, '10-50': 0.1939, '50-100': 0....</td>\n",
       "      <td>{'0-10': 0.0338, '10-50': 0.0935, '50-100': 0....</td>\n",
       "      <td>{'0-10': 0.1612, '10-50': 0.1873, '50-100': 0....</td>\n",
       "      <td>{'0-10': 0.033, '10-50': 0.1165, '50-100': 0.2...</td>\n",
       "      <td>{'0-10': 0.1579, '10-50': 0.224, '50-100': 0.1...</td>\n",
       "    </tr>\n",
       "    <tr>\n",
       "      <td>179</td>\n",
       "      <td>0.9</td>\n",
       "      <td>0.1</td>\n",
       "      <td>80</td>\n",
       "      <td>10</td>\n",
       "      <td>0.117819</td>\n",
       "      <td>0.188161</td>\n",
       "      <td>0.210649</td>\n",
       "      <td>0.116759</td>\n",
       "      <td>0.186346</td>\n",
       "      <td>0.206502</td>\n",
       "      <td>...</td>\n",
       "      <td>0.217811</td>\n",
       "      <td>0.256396</td>\n",
       "      <td>{'0-10': 0.0323, '10-50': 0.0934, '50-100': 0....</td>\n",
       "      <td>{'0-10': 0.1711, '10-50': 0.2036, '50-100': 0....</td>\n",
       "      <td>{'0-10': 0.0322, '10-50': 0.0932, '50-100': 0....</td>\n",
       "      <td>{'0-10': 0.1693, '10-50': 0.2026, '50-100': 0....</td>\n",
       "      <td>{'0-10': 0.0313, '10-50': 0.0878, '50-100': 0....</td>\n",
       "      <td>{'0-10': 0.1652, '10-50': 0.1952, '50-100': 0....</td>\n",
       "      <td>{'0-10': 0.0308, '10-50': 0.1116, '50-100': 0....</td>\n",
       "      <td>{'0-10': 0.1635, '10-50': 0.2363, '50-100': 0....</td>\n",
       "    </tr>\n",
       "  </tbody>\n",
       "</table>\n",
       "<p>180 rows × 24 columns</p>\n",
       "</div>"
      ],
      "text/plain": [
       "     lbd  cutoff  k_neighbors  k_matric  precision_tag_cos  recall_tag_cos  \\\n",
       "0    0.9     0.5           10         1           0.192384        0.035498   \n",
       "1    0.9     0.5           10         2           0.164272        0.057093   \n",
       "2    0.9     0.5           10         3           0.146698        0.071786   \n",
       "3    0.9     0.5           10         4           0.133914        0.085148   \n",
       "4    0.9     0.5           10         5           0.123981        0.097698   \n",
       "..   ...     ...          ...       ...                ...             ...   \n",
       "175  0.9     0.1           80         6           0.151458        0.150301   \n",
       "176  0.9     0.1           80         7           0.141394        0.162442   \n",
       "177  0.9     0.1           80         8           0.132455        0.171226   \n",
       "178  0.9     0.1           80         9           0.124943        0.180428   \n",
       "179  0.9     0.1           80        10           0.117819        0.188161   \n",
       "\n",
       "     ndcg_tag_cos  precision_tag_jac  recall_tag_jac  ndcg_tag_jac  ...  \\\n",
       "0        0.192384           0.207832        0.038551      0.207832  ...   \n",
       "1        0.173357           0.175498        0.065846      0.186815  ...   \n",
       "2        0.164123           0.154901        0.085176      0.176425  ...   \n",
       "3        0.159328           0.140650        0.100032      0.171602  ...   \n",
       "4        0.157275           0.131561        0.115128      0.170931  ...   \n",
       "..            ...                ...             ...           ...  ...   \n",
       "175      0.213565           0.151189        0.151439      0.209790  ...   \n",
       "176      0.212371           0.140650        0.161723      0.208185  ...   \n",
       "177      0.211182           0.131175        0.169736      0.206758  ...   \n",
       "178      0.210958           0.123685        0.179072      0.206704  ...   \n",
       "179      0.210649           0.116759        0.186346      0.206502  ...   \n",
       "\n",
       "     recall_cf   ndcg_cf                            group_precision_tag_cos  \\\n",
       "0     0.043044  0.268188  {'0-10': 0.0682, '10-50': 0.1717, '50-100': 0....   \n",
       "1     0.071118  0.246191  {'0-10': 0.0556, '10-50': 0.141, '50-100': 0.2...   \n",
       "2     0.092149  0.231212  {'0-10': 0.0466, '10-50': 0.1195, '50-100': 0....   \n",
       "3     0.108700  0.222727  {'0-10': 0.0407, '10-50': 0.1077, '50-100': 0....   \n",
       "4     0.123445  0.217375  {'0-10': 0.0375, '10-50': 0.097, '50-100': 0.1...   \n",
       "..         ...       ...                                                ...   \n",
       "175   0.171521  0.259619  {'0-10': 0.0446, '10-50': 0.123, '50-100': 0.2...   \n",
       "176   0.184756  0.257894  {'0-10': 0.0406, '10-50': 0.1144, '50-100': 0....   \n",
       "177   0.197295  0.256770  {'0-10': 0.0373, '10-50': 0.106, '50-100': 0.2...   \n",
       "178   0.207155  0.256200  {'0-10': 0.0347, '10-50': 0.099, '50-100': 0.1...   \n",
       "179   0.217811  0.256396  {'0-10': 0.0323, '10-50': 0.0934, '50-100': 0....   \n",
       "\n",
       "                                  group_recall_tag_cos  \\\n",
       "0    {'0-10': 0.0353, '10-50': 0.0396, '50-100': 0....   \n",
       "1    {'0-10': 0.0572, '10-50': 0.0623, '50-100': 0....   \n",
       "2    {'0-10': 0.07, '10-50': 0.0771, '50-100': 0.04...   \n",
       "3    {'0-10': 0.0798, '10-50': 0.092, '50-100': 0.0...   \n",
       "4    {'0-10': 0.0938, '10-50': 0.1034, '50-100': 0....   \n",
       "..                                                 ...   \n",
       "175  {'0-10': 0.1398, '10-50': 0.1637, '50-100': 0....   \n",
       "176  {'0-10': 0.1493, '10-50': 0.1773, '50-100': 0....   \n",
       "177  {'0-10': 0.1568, '10-50': 0.1859, '50-100': 0....   \n",
       "178  {'0-10': 0.1658, '10-50': 0.1947, '50-100': 0....   \n",
       "179  {'0-10': 0.1711, '10-50': 0.2036, '50-100': 0....   \n",
       "\n",
       "                               group_precision_tag_jac  \\\n",
       "0    {'0-10': 0.0695, '10-50': 0.1824, '50-100': 0....   \n",
       "1    {'0-10': 0.0652, '10-50': 0.1523, '50-100': 0....   \n",
       "2    {'0-10': 0.0565, '10-50': 0.1345, '50-100': 0....   \n",
       "3    {'0-10': 0.0485, '10-50': 0.1209, '50-100': 0....   \n",
       "4    {'0-10': 0.0441, '10-50': 0.1117, '50-100': 0....   \n",
       "..                                                 ...   \n",
       "175  {'0-10': 0.0459, '10-50': 0.1224, '50-100': 0....   \n",
       "176  {'0-10': 0.0412, '10-50': 0.1136, '50-100': 0....   \n",
       "177  {'0-10': 0.0377, '10-50': 0.1049, '50-100': 0....   \n",
       "178  {'0-10': 0.0351, '10-50': 0.0989, '50-100': 0....   \n",
       "179  {'0-10': 0.0322, '10-50': 0.0932, '50-100': 0....   \n",
       "\n",
       "                                  group_recall_tag_jac  \\\n",
       "0    {'0-10': 0.0376, '10-50': 0.0433, '50-100': 0....   \n",
       "1    {'0-10': 0.0699, '10-50': 0.0714, '50-100': 0....   \n",
       "2    {'0-10': 0.0893, '10-50': 0.092, '50-100': 0.0...   \n",
       "3    {'0-10': 0.1018, '10-50': 0.1085, '50-100': 0....   \n",
       "4    {'0-10': 0.116, '10-50': 0.1248, '50-100': 0.0...   \n",
       "..                                                 ...   \n",
       "175  {'0-10': 0.1462, '10-50': 0.1628, '50-100': 0....   \n",
       "176  {'0-10': 0.1526, '10-50': 0.1749, '50-100': 0....   \n",
       "177  {'0-10': 0.1594, '10-50': 0.1829, '50-100': 0....   \n",
       "178  {'0-10': 0.1655, '10-50': 0.1939, '50-100': 0....   \n",
       "179  {'0-10': 0.1693, '10-50': 0.2026, '50-100': 0....   \n",
       "\n",
       "                                   group_precision_wbs  \\\n",
       "0    {'0-10': 0.0695, '10-50': 0.139, '50-100': 0.2...   \n",
       "1    {'0-10': 0.0497, '10-50': 0.1087, '50-100': 0....   \n",
       "2    {'0-10': 0.0415, '10-50': 0.0947, '50-100': 0....   \n",
       "3    {'0-10': 0.0364, '10-50': 0.0838, '50-100': 0....   \n",
       "4    {'0-10': 0.0334, '10-50': 0.0765, '50-100': 0....   \n",
       "..                                                 ...   \n",
       "175  {'0-10': 0.043, '10-50': 0.1184, '50-100': 0.2...   \n",
       "176  {'0-10': 0.0393, '10-50': 0.1089, '50-100': 0....   \n",
       "177  {'0-10': 0.0363, '10-50': 0.1006, '50-100': 0....   \n",
       "178  {'0-10': 0.0338, '10-50': 0.0935, '50-100': 0....   \n",
       "179  {'0-10': 0.0313, '10-50': 0.0878, '50-100': 0....   \n",
       "\n",
       "                                      group_recall_wbs  \\\n",
       "0    {'0-10': 0.0359, '10-50': 0.0322, '50-100': 0....   \n",
       "1    {'0-10': 0.0505, '10-50': 0.0499, '50-100': 0....   \n",
       "2    {'0-10': 0.0629, '10-50': 0.0638, '50-100': 0....   \n",
       "3    {'0-10': 0.073, '10-50': 0.0742, '50-100': 0.0...   \n",
       "4    {'0-10': 0.0843, '10-50': 0.0843, '50-100': 0....   \n",
       "..                                                 ...   \n",
       "175  {'0-10': 0.1349, '10-50': 0.1592, '50-100': 0....   \n",
       "176  {'0-10': 0.1441, '10-50': 0.17, '50-100': 0.09...   \n",
       "177  {'0-10': 0.1549, '10-50': 0.179, '50-100': 0.1...   \n",
       "178  {'0-10': 0.1612, '10-50': 0.1873, '50-100': 0....   \n",
       "179  {'0-10': 0.1652, '10-50': 0.1952, '50-100': 0....   \n",
       "\n",
       "                                    group_precision_cf  \\\n",
       "0    {'0-10': 0.0675, '10-50': 0.2129, '50-100': 0....   \n",
       "1    {'0-10': 0.054, '10-50': 0.1782, '50-100': 0.4...   \n",
       "2    {'0-10': 0.0475, '10-50': 0.1547, '50-100': 0....   \n",
       "3    {'0-10': 0.0412, '10-50': 0.1379, '50-100': 0....   \n",
       "4    {'0-10': 0.0364, '10-50': 0.1249, '50-100': 0....   \n",
       "..                                                 ...   \n",
       "175  {'0-10': 0.0434, '10-50': 0.1425, '50-100': 0....   \n",
       "176  {'0-10': 0.0389, '10-50': 0.1325, '50-100': 0....   \n",
       "177  {'0-10': 0.0358, '10-50': 0.1246, '50-100': 0....   \n",
       "178  {'0-10': 0.033, '10-50': 0.1165, '50-100': 0.2...   \n",
       "179  {'0-10': 0.0308, '10-50': 0.1116, '50-100': 0....   \n",
       "\n",
       "                                       group_recall_cf  \n",
       "0    {'0-10': 0.0364, '10-50': 0.0476, '50-100': 0....  \n",
       "1    {'0-10': 0.0554, '10-50': 0.0786, '50-100': 0....  \n",
       "2    {'0-10': 0.0731, '10-50': 0.1006, '50-100': 0....  \n",
       "3    {'0-10': 0.0842, '10-50': 0.1184, '50-100': 0....  \n",
       "4    {'0-10': 0.0931, '10-50': 0.1346, '50-100': 0....  \n",
       "..                                                 ...  \n",
       "175  {'0-10': 0.1376, '10-50': 0.1868, '50-100': 0....  \n",
       "176  {'0-10': 0.1446, '10-50': 0.2006, '50-100': 0....  \n",
       "177  {'0-10': 0.1524, '10-50': 0.2144, '50-100': 0....  \n",
       "178  {'0-10': 0.1579, '10-50': 0.224, '50-100': 0.1...  \n",
       "179  {'0-10': 0.1635, '10-50': 0.2363, '50-100': 0....  \n",
       "\n",
       "[180 rows x 24 columns]"
      ]
     },
     "execution_count": 50,
     "metadata": {},
     "output_type": "execute_result"
    }
   ],
   "source": [
    "pd.DataFrame(grid_search_reversed_rst)"
   ]
  },
  {
   "cell_type": "code",
   "execution_count": 44,
   "metadata": {},
   "outputs": [
    {
     "data": {
      "text/plain": [
       "array([0.5, 0.1])"
      ]
     },
     "execution_count": 44,
     "metadata": {},
     "output_type": "execute_result"
    }
   ],
   "source": [
    "0.9,0.5; "
   ]
  },
  {
   "cell_type": "code",
   "execution_count": 55,
   "metadata": {},
   "outputs": [],
   "source": [
    "f = open('grid_search_reversed_rst_new.pkl', 'rb')\n",
    "grid_search_reversed_rst_new = pkl.load(f)\n",
    "f.close()"
   ]
  },
  {
   "cell_type": "code",
   "execution_count": 56,
   "metadata": {},
   "outputs": [
    {
     "data": {
      "text/html": [
       "<div>\n",
       "<style scoped>\n",
       "    .dataframe tbody tr th:only-of-type {\n",
       "        vertical-align: middle;\n",
       "    }\n",
       "\n",
       "    .dataframe tbody tr th {\n",
       "        vertical-align: top;\n",
       "    }\n",
       "\n",
       "    .dataframe thead th {\n",
       "        text-align: right;\n",
       "    }\n",
       "</style>\n",
       "<table border=\"1\" class=\"dataframe\">\n",
       "  <thead>\n",
       "    <tr style=\"text-align: right;\">\n",
       "      <th></th>\n",
       "      <th>lbd</th>\n",
       "      <th>cutoff</th>\n",
       "      <th>k_neighbors</th>\n",
       "      <th>k_matric</th>\n",
       "      <th>precision_tag_cos</th>\n",
       "      <th>recall_tag_cos</th>\n",
       "      <th>ndcg_tag_cos</th>\n",
       "      <th>precision_tag_jac</th>\n",
       "      <th>recall_tag_jac</th>\n",
       "      <th>ndcg_tag_jac</th>\n",
       "      <th>...</th>\n",
       "      <th>recall_cf</th>\n",
       "      <th>ndcg_cf</th>\n",
       "      <th>group_precision_tag_cos</th>\n",
       "      <th>group_recall_tag_cos</th>\n",
       "      <th>group_precision_tag_jac</th>\n",
       "      <th>group_recall_tag_jac</th>\n",
       "      <th>group_precision_wbs</th>\n",
       "      <th>group_recall_wbs</th>\n",
       "      <th>group_precision_cf</th>\n",
       "      <th>group_recall_cf</th>\n",
       "    </tr>\n",
       "  </thead>\n",
       "  <tbody>\n",
       "    <tr>\n",
       "      <td>0</td>\n",
       "      <td>0.9</td>\n",
       "      <td>0.1</td>\n",
       "      <td>100</td>\n",
       "      <td>5</td>\n",
       "      <td>0.167918</td>\n",
       "      <td>0.141989</td>\n",
       "      <td>0.220673</td>\n",
       "      <td>0.165260</td>\n",
       "      <td>0.139656</td>\n",
       "      <td>0.214914</td>\n",
       "      <td>...</td>\n",
       "      <td>0.160361</td>\n",
       "      <td>0.266048</td>\n",
       "      <td>{'0-10': 0.049, '10-50': 0.1401, '50-100': 0.2...</td>\n",
       "      <td>{'0-10': 0.1295, '10-50': 0.1575, '50-100': 0....</td>\n",
       "      <td>{'0-10': 0.0493, '10-50': 0.1359, '50-100': 0....</td>\n",
       "      <td>{'0-10': 0.1315, '10-50': 0.1525, '50-100': 0....</td>\n",
       "      <td>{'0-10': 0.0486, '10-50': 0.1354, '50-100': 0....</td>\n",
       "      <td>{'0-10': 0.1283, '10-50': 0.1526, '50-100': 0....</td>\n",
       "      <td>{'0-10': 0.0491, '10-50': 0.1599, '50-100': 0....</td>\n",
       "      <td>{'0-10': 0.1324, '10-50': 0.1751, '50-100': 0....</td>\n",
       "    </tr>\n",
       "    <tr>\n",
       "      <td>1</td>\n",
       "      <td>0.9</td>\n",
       "      <td>0.2</td>\n",
       "      <td>100</td>\n",
       "      <td>5</td>\n",
       "      <td>0.167918</td>\n",
       "      <td>0.141989</td>\n",
       "      <td>0.220673</td>\n",
       "      <td>0.167882</td>\n",
       "      <td>0.141640</td>\n",
       "      <td>0.219576</td>\n",
       "      <td>...</td>\n",
       "      <td>0.160361</td>\n",
       "      <td>0.266048</td>\n",
       "      <td>{'0-10': 0.049, '10-50': 0.1401, '50-100': 0.2...</td>\n",
       "      <td>{'0-10': 0.1295, '10-50': 0.1575, '50-100': 0....</td>\n",
       "      <td>{'0-10': 0.0494, '10-50': 0.1389, '50-100': 0....</td>\n",
       "      <td>{'0-10': 0.1335, '10-50': 0.1547, '50-100': 0....</td>\n",
       "      <td>{'0-10': 0.0486, '10-50': 0.1354, '50-100': 0....</td>\n",
       "      <td>{'0-10': 0.1283, '10-50': 0.1526, '50-100': 0....</td>\n",
       "      <td>{'0-10': 0.0491, '10-50': 0.1599, '50-100': 0....</td>\n",
       "      <td>{'0-10': 0.1324, '10-50': 0.1751, '50-100': 0....</td>\n",
       "    </tr>\n",
       "    <tr>\n",
       "      <td>2</td>\n",
       "      <td>0.9</td>\n",
       "      <td>0.3</td>\n",
       "      <td>100</td>\n",
       "      <td>5</td>\n",
       "      <td>0.167918</td>\n",
       "      <td>0.141989</td>\n",
       "      <td>0.220673</td>\n",
       "      <td>0.171762</td>\n",
       "      <td>0.144199</td>\n",
       "      <td>0.225462</td>\n",
       "      <td>...</td>\n",
       "      <td>0.160361</td>\n",
       "      <td>0.266048</td>\n",
       "      <td>{'0-10': 0.049, '10-50': 0.1401, '50-100': 0.2...</td>\n",
       "      <td>{'0-10': 0.1295, '10-50': 0.1575, '50-100': 0....</td>\n",
       "      <td>{'0-10': 0.0502, '10-50': 0.1412, '50-100': 0....</td>\n",
       "      <td>{'0-10': 0.1351, '10-50': 0.1575, '50-100': 0....</td>\n",
       "      <td>{'0-10': 0.0486, '10-50': 0.1354, '50-100': 0....</td>\n",
       "      <td>{'0-10': 0.1283, '10-50': 0.1526, '50-100': 0....</td>\n",
       "      <td>{'0-10': 0.0491, '10-50': 0.1599, '50-100': 0....</td>\n",
       "      <td>{'0-10': 0.1324, '10-50': 0.1751, '50-100': 0....</td>\n",
       "    </tr>\n",
       "    <tr>\n",
       "      <td>3</td>\n",
       "      <td>0.9</td>\n",
       "      <td>0.4</td>\n",
       "      <td>100</td>\n",
       "      <td>5</td>\n",
       "      <td>0.167918</td>\n",
       "      <td>0.141989</td>\n",
       "      <td>0.220673</td>\n",
       "      <td>0.176971</td>\n",
       "      <td>0.146433</td>\n",
       "      <td>0.230743</td>\n",
       "      <td>...</td>\n",
       "      <td>0.160361</td>\n",
       "      <td>0.266048</td>\n",
       "      <td>{'0-10': 0.049, '10-50': 0.1401, '50-100': 0.2...</td>\n",
       "      <td>{'0-10': 0.1295, '10-50': 0.1575, '50-100': 0....</td>\n",
       "      <td>{'0-10': 0.0494, '10-50': 0.1447, '50-100': 0....</td>\n",
       "      <td>{'0-10': 0.1325, '10-50': 0.1612, '50-100': 0....</td>\n",
       "      <td>{'0-10': 0.0486, '10-50': 0.1354, '50-100': 0....</td>\n",
       "      <td>{'0-10': 0.1283, '10-50': 0.1526, '50-100': 0....</td>\n",
       "      <td>{'0-10': 0.0491, '10-50': 0.1599, '50-100': 0....</td>\n",
       "      <td>{'0-10': 0.1324, '10-50': 0.1751, '50-100': 0....</td>\n",
       "    </tr>\n",
       "  </tbody>\n",
       "</table>\n",
       "<p>4 rows × 24 columns</p>\n",
       "</div>"
      ],
      "text/plain": [
       "   lbd  cutoff  k_neighbors  k_matric  precision_tag_cos  recall_tag_cos  \\\n",
       "0  0.9     0.1          100         5           0.167918        0.141989   \n",
       "1  0.9     0.2          100         5           0.167918        0.141989   \n",
       "2  0.9     0.3          100         5           0.167918        0.141989   \n",
       "3  0.9     0.4          100         5           0.167918        0.141989   \n",
       "\n",
       "   ndcg_tag_cos  precision_tag_jac  recall_tag_jac  ndcg_tag_jac  ...  \\\n",
       "0      0.220673           0.165260        0.139656      0.214914  ...   \n",
       "1      0.220673           0.167882        0.141640      0.219576  ...   \n",
       "2      0.220673           0.171762        0.144199      0.225462  ...   \n",
       "3      0.220673           0.176971        0.146433      0.230743  ...   \n",
       "\n",
       "   recall_cf   ndcg_cf                            group_precision_tag_cos  \\\n",
       "0   0.160361  0.266048  {'0-10': 0.049, '10-50': 0.1401, '50-100': 0.2...   \n",
       "1   0.160361  0.266048  {'0-10': 0.049, '10-50': 0.1401, '50-100': 0.2...   \n",
       "2   0.160361  0.266048  {'0-10': 0.049, '10-50': 0.1401, '50-100': 0.2...   \n",
       "3   0.160361  0.266048  {'0-10': 0.049, '10-50': 0.1401, '50-100': 0.2...   \n",
       "\n",
       "                                group_recall_tag_cos  \\\n",
       "0  {'0-10': 0.1295, '10-50': 0.1575, '50-100': 0....   \n",
       "1  {'0-10': 0.1295, '10-50': 0.1575, '50-100': 0....   \n",
       "2  {'0-10': 0.1295, '10-50': 0.1575, '50-100': 0....   \n",
       "3  {'0-10': 0.1295, '10-50': 0.1575, '50-100': 0....   \n",
       "\n",
       "                             group_precision_tag_jac  \\\n",
       "0  {'0-10': 0.0493, '10-50': 0.1359, '50-100': 0....   \n",
       "1  {'0-10': 0.0494, '10-50': 0.1389, '50-100': 0....   \n",
       "2  {'0-10': 0.0502, '10-50': 0.1412, '50-100': 0....   \n",
       "3  {'0-10': 0.0494, '10-50': 0.1447, '50-100': 0....   \n",
       "\n",
       "                                group_recall_tag_jac  \\\n",
       "0  {'0-10': 0.1315, '10-50': 0.1525, '50-100': 0....   \n",
       "1  {'0-10': 0.1335, '10-50': 0.1547, '50-100': 0....   \n",
       "2  {'0-10': 0.1351, '10-50': 0.1575, '50-100': 0....   \n",
       "3  {'0-10': 0.1325, '10-50': 0.1612, '50-100': 0....   \n",
       "\n",
       "                                 group_precision_wbs  \\\n",
       "0  {'0-10': 0.0486, '10-50': 0.1354, '50-100': 0....   \n",
       "1  {'0-10': 0.0486, '10-50': 0.1354, '50-100': 0....   \n",
       "2  {'0-10': 0.0486, '10-50': 0.1354, '50-100': 0....   \n",
       "3  {'0-10': 0.0486, '10-50': 0.1354, '50-100': 0....   \n",
       "\n",
       "                                    group_recall_wbs  \\\n",
       "0  {'0-10': 0.1283, '10-50': 0.1526, '50-100': 0....   \n",
       "1  {'0-10': 0.1283, '10-50': 0.1526, '50-100': 0....   \n",
       "2  {'0-10': 0.1283, '10-50': 0.1526, '50-100': 0....   \n",
       "3  {'0-10': 0.1283, '10-50': 0.1526, '50-100': 0....   \n",
       "\n",
       "                                  group_precision_cf  \\\n",
       "0  {'0-10': 0.0491, '10-50': 0.1599, '50-100': 0....   \n",
       "1  {'0-10': 0.0491, '10-50': 0.1599, '50-100': 0....   \n",
       "2  {'0-10': 0.0491, '10-50': 0.1599, '50-100': 0....   \n",
       "3  {'0-10': 0.0491, '10-50': 0.1599, '50-100': 0....   \n",
       "\n",
       "                                     group_recall_cf  \n",
       "0  {'0-10': 0.1324, '10-50': 0.1751, '50-100': 0....  \n",
       "1  {'0-10': 0.1324, '10-50': 0.1751, '50-100': 0....  \n",
       "2  {'0-10': 0.1324, '10-50': 0.1751, '50-100': 0....  \n",
       "3  {'0-10': 0.1324, '10-50': 0.1751, '50-100': 0....  \n",
       "\n",
       "[4 rows x 24 columns]"
      ]
     },
     "execution_count": 56,
     "metadata": {},
     "output_type": "execute_result"
    }
   ],
   "source": [
    "pd.DataFrame(grid_search_reversed_rst_new)"
   ]
  },
  {
   "cell_type": "code",
   "execution_count": null,
   "metadata": {},
   "outputs": [],
   "source": []
  }
 ],
 "metadata": {
  "kernelspec": {
   "display_name": "Python 3",
   "language": "python",
   "name": "python3"
  },
  "language_info": {
   "codemirror_mode": {
    "name": "ipython",
    "version": 3
   },
   "file_extension": ".py",
   "mimetype": "text/x-python",
   "name": "python",
   "nbconvert_exporter": "python",
   "pygments_lexer": "ipython3",
   "version": "3.6.9"
  }
 },
 "nbformat": 4,
 "nbformat_minor": 2
}
