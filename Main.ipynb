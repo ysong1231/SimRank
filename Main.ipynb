{
 "cells": [
  {
   "cell_type": "code",
   "execution_count": 1,
   "metadata": {},
   "outputs": [],
   "source": [
    "import pandas as pd\n",
    "import numpy as np\n",
    "from modules import data_sampling, SimRank, evaluation\n",
    "from sklearn.model_selection import train_test_split"
   ]
  },
  {
   "cell_type": "markdown",
   "metadata": {},
   "source": [
    "# Loading & Manipulating Data"
   ]
  },
  {
   "cell_type": "code",
   "execution_count": 9,
   "metadata": {},
   "outputs": [],
   "source": [
    "# Load data\n",
    "ratings = pd.read_csv('ratings.csv')\n",
    "tags = pd.read_csv('genome-scores.csv')"
   ]
  },
  {
   "cell_type": "code",
   "execution_count": 12,
   "metadata": {},
   "outputs": [],
   "source": [
    "# Keep movies have tags\n",
    "# set threhod when using jaccard sim\n",
    "tags = tags[tags.relevance > 0.5]\n",
    "\n",
    "ratings, tags = data_sampling.align_items(ratings, tags)"
   ]
  },
  {
   "cell_type": "code",
   "execution_count": 13,
   "metadata": {},
   "outputs": [
    {
     "name": "stdout",
     "output_type": "stream",
     "text": [
      "number of users: 20000\n",
      "number of items: 1000\n",
      "number of ratings: 1251382\n"
     ]
    }
   ],
   "source": [
    "# sampling\n",
    "rating_sample = data_sampling.sample_df(ratings, user_sample_n = 20000, item_sample_n = 1000)"
   ]
  },
  {
   "cell_type": "code",
   "execution_count": 14,
   "metadata": {},
   "outputs": [],
   "source": [
    "# Train test split\n",
    "rating_train, rating_test = train_test_split(rating_sample, test_size=0.10, random_state=42)"
   ]
  },
  {
   "cell_type": "markdown",
   "metadata": {},
   "source": [
    "# TagSimRank"
   ]
  },
  {
   "cell_type": "code",
   "execution_count": 16,
   "metadata": {},
   "outputs": [],
   "source": [
    "# Init instance\n",
    "tsr_jac = SimRank.tag_simrank()"
   ]
  },
  {
   "cell_type": "code",
   "execution_count": 17,
   "metadata": {},
   "outputs": [
    {
     "name": "stdout",
     "output_type": "stream",
     "text": [
      "User count: 20000, item count: 1000\n",
      "Initializing tab-based item similarity matrix...\n",
      "Finished in 352.6751492023468s!\n",
      "Initializing User spread matrix...\n",
      "GPU failed, trying with CPU...\n",
      "Finished in 15.283692836761475s!\n",
      "Initializing Item spread matrix...\n",
      "GPU failed, trying with CPU...\n",
      "Finished in 1.7379729747772217s!\n",
      "Initializing User evidence matrix...\n",
      "GPU failed, trying with CPU...\n",
      "Finished in 1817.1613092422485s!\n",
      "Initializing Item evidence matrix...\n",
      "GPU failed, trying with CPU...\n",
      "Finished in 258.7835168838501s!\n",
      "Iteration 1 / 100 start:\n",
      "Updating S_item with GPU...\n",
      "GPU failed, trying with CPU...\n",
      "Updating S_user with GPU...\n",
      "GPU failed, trying with CPU...\n",
      "S_user updated in 15.310233116149902, S_item updated in 66.08047795295715!\n",
      "Iteration 2 / 100 start:\n",
      "Updating S_item with GPU...\n",
      "GPU failed, trying with CPU...\n",
      "Updating S_user with GPU...\n",
      "GPU failed, trying with CPU...\n",
      "S_user updated in 16.615219116210938, S_item updated in 82.64574599266052!\n",
      "Iteration 3 / 100 start:\n",
      "Updating S_item with GPU...\n",
      "GPU failed, trying with CPU...\n",
      "Updating S_user with GPU...\n",
      "GPU failed, trying with CPU...\n",
      "S_user updated in 18.480186939239502, S_item updated in 80.15940499305725!\n",
      "Iteration 4 / 100 start:\n",
      "Updating S_item with GPU...\n",
      "GPU failed, trying with CPU...\n",
      "Updating S_user with GPU...\n",
      "GPU failed, trying with CPU...\n",
      "S_user updated in 27.75632619857788, S_item updated in 92.89868474006653!\n",
      "Iteration 5 / 100 start:\n",
      "Updating S_item with GPU...\n",
      "GPU failed, trying with CPU...\n",
      "Updating S_user with GPU...\n",
      "GPU failed, trying with CPU...\n",
      "S_user updated in 16.939724922180176, S_item updated in 83.46595311164856!\n",
      "Iteration 6 / 100 start:\n",
      "Updating S_item with GPU...\n",
      "GPU failed, trying with CPU...\n",
      "Updating S_user with GPU...\n",
      "GPU failed, trying with CPU...\n",
      "S_user updated in 20.164058208465576, S_item updated in 85.80286502838135!\n",
      "Iteration 7 / 100 start:\n",
      "Updating S_item with GPU...\n",
      "GPU failed, trying with CPU...\n",
      "Updating S_user with GPU...\n",
      "GPU failed, trying with CPU...\n",
      "S_user updated in 19.67975687980652, S_item updated in 80.26560616493225!\n",
      "Iteration 8 / 100 start:\n",
      "Updating S_item with GPU...\n",
      "GPU failed, trying with CPU...\n",
      "Updating S_user with GPU...\n",
      "GPU failed, trying with CPU...\n",
      "S_user updated in 21.030302047729492, S_item updated in 87.88953614234924!\n",
      "Iteration 9 / 100 start:\n",
      "Updating S_item with GPU...\n",
      "GPU failed, trying with CPU...\n",
      "Updating S_user with GPU...\n",
      "GPU failed, trying with CPU...\n",
      "S_user updated in 18.53755784034729, S_item updated in 81.22653079032898!\n",
      "Iteration 10 / 100 start:\n",
      "Updating S_item with GPU...\n",
      "GPU failed, trying with CPU...\n",
      "Updating S_user with GPU...\n",
      "GPU failed, trying with CPU...\n",
      "S_user updated in 19.513598918914795, S_item updated in 82.37676000595093!\n",
      "Converged at iteration 10, break!\n"
     ]
    }
   ],
   "source": [
    "# train\n",
    "tsr_jac.fit(rating_train, tags, C_item = 0.8, C_user = 0.8, lbd = 0.3, iterations = 100, eps = 1e-4, how = 'jac')"
   ]
  },
  {
   "cell_type": "code",
   "execution_count": 18,
   "metadata": {},
   "outputs": [
    {
     "name": "stdout",
     "output_type": "stream",
     "text": [
      "Count of cold start user: 0\n",
      "Count of cold start item: 0\n"
     ]
    }
   ],
   "source": [
    "# predict\n",
    "tsr_jac_pred = tsr_jac.cf_recommendation(rating_test)"
   ]
  },
  {
   "cell_type": "code",
   "execution_count": 51,
   "metadata": {},
   "outputs": [],
   "source": [
    "user_grouped = evaluation.group(rating_test, 'user')"
   ]
  },
  {
   "cell_type": "code",
   "execution_count": 20,
   "metadata": {},
   "outputs": [
    {
     "name": "stdout",
     "output_type": "stream",
     "text": [
      "Precision: 0.10496293245469523\n",
      "Recall: 0.1790765360918646\n",
      "ndcg: 0.17597979725507895\n"
     ]
    }
   ],
   "source": [
    "# Evaluation\n",
    "tsr_precision = evaluation.precision_at_k(\n",
    "    rating_test,\n",
    "    tsr_jac_pred,\n",
    "    user_grouped = user_grouped\n",
    ")\n",
    "print(f\"Precision: {tsr_precision}\")\n",
    "tsr_recall = evaluation.recall_at_k(\n",
    "    rating_test,\n",
    "    tsr_jac_pred,\n",
    "    user_grouped = user_grouped\n",
    ")\n",
    "print(f\"Recall: {tsr_recall}\")\n",
    "tsr_ndcg = evaluation.ndcg_at_k(\n",
    "    rating_test,\n",
    "    tsr_jac_pred,\n",
    "    user_grouped = user_grouped\n",
    ")\n",
    "print(f\"ndcg: {tsr_ndcg}\")"
   ]
  },
  {
   "cell_type": "code",
   "execution_count": 13,
   "metadata": {},
   "outputs": [
    {
     "name": "stdout",
     "output_type": "stream",
     "text": [
      "Precision: 0.10493204283360792\n",
      "Recall: 0.17899064676510162\n",
      "Recall: 0.17582168273247448\n"
     ]
    }
   ],
   "source": [
    "# Evaluation\n",
    "tsr_precision = evaluation.precision_at_k(\n",
    "    rating_test,\n",
    "    tsr_pred,\n",
    "    user_grouped = user_grouped\n",
    ")\n",
    "print(f\"Precision: {tsr_precision}\")\n",
    "tsr_recall = evaluation.recall_at_k(\n",
    "    rating_test,\n",
    "    tsr_pred,\n",
    "    user_grouped = user_grouped\n",
    ")\n",
    "print(f\"Recall: {tsr_recall}\")\n",
    "tsr_ndcg = evaluation.ndcg_at_k(\n",
    "    rating_test,\n",
    "    tsr_pred,\n",
    "    user_grouped = user_grouped\n",
    ")\n",
    "print(f\"ndcg: {tsr_ndcg}\")"
   ]
  },
  {
   "cell_type": "markdown",
   "metadata": {},
   "source": [
    "# Weighted Bipartite SimRank"
   ]
  },
  {
   "cell_type": "code",
   "execution_count": 21,
   "metadata": {},
   "outputs": [],
   "source": [
    "# Init instance\n",
    "wbs = SimRank.weighted_bipartite_simrank()"
   ]
  },
  {
   "cell_type": "code",
   "execution_count": 22,
   "metadata": {},
   "outputs": [
    {
     "name": "stdout",
     "output_type": "stream",
     "text": [
      "User count: 20000, item count: 1000\n",
      "Initializing User spread matrix...\n",
      "GPU failed, trying with CPU...\n",
      "Finished in 16.42199182510376s!\n",
      "Initializing Item spread matrix...\n",
      "GPU failed, trying with CPU...\n",
      "Finished in 1.5845131874084473s!\n",
      "Initializing User evidence matrix...\n",
      "GPU failed, trying with CPU...\n",
      "Finished in 1483.747482061386s!\n",
      "Initializing Item evidence matrix...\n",
      "GPU failed, trying with CPU...\n",
      "Finished in 303.92618107795715s!\n",
      "Iteration 1 / 100 start:\n",
      "Updating S_item with GPU...\n",
      "GPU failed, trying with CPU...\n",
      "Updating S_user with GPU...\n",
      "GPU failed, trying with CPU...\n",
      "S_user updated in 15.674851179122925, S_item updated in 60.282334089279175!\n",
      "Iteration 2 / 100 start:\n",
      "Updating S_item with GPU...\n",
      "GPU failed, trying with CPU...\n",
      "Updating S_user with GPU...\n",
      "GPU failed, trying with CPU...\n",
      "S_user updated in 19.708811044692993, S_item updated in 79.20814681053162!\n",
      "Iteration 3 / 100 start:\n",
      "Updating S_item with GPU...\n",
      "GPU failed, trying with CPU...\n",
      "Updating S_user with GPU...\n",
      "GPU failed, trying with CPU...\n",
      "S_user updated in 19.003463983535767, S_item updated in 74.77851486206055!\n",
      "Iteration 4 / 100 start:\n",
      "Updating S_item with GPU...\n",
      "GPU failed, trying with CPU...\n",
      "Updating S_user with GPU...\n",
      "GPU failed, trying with CPU...\n",
      "S_user updated in 24.5444757938385, S_item updated in 71.91230797767639!\n",
      "Iteration 5 / 100 start:\n",
      "Updating S_item with GPU...\n",
      "GPU failed, trying with CPU...\n",
      "Updating S_user with GPU...\n",
      "GPU failed, trying with CPU...\n",
      "S_user updated in 22.881165742874146, S_item updated in 71.52914524078369!\n",
      "Iteration 6 / 100 start:\n",
      "Updating S_item with GPU...\n",
      "GPU failed, trying with CPU...\n",
      "Updating S_user with GPU...\n",
      "GPU failed, trying with CPU...\n",
      "S_user updated in 26.70432186126709, S_item updated in 76.10465216636658!\n",
      "Iteration 7 / 100 start:\n",
      "Updating S_item with GPU...\n",
      "GPU failed, trying with CPU...\n",
      "Updating S_user with GPU...\n",
      "GPU failed, trying with CPU...\n",
      "S_user updated in 22.84719681739807, S_item updated in 74.30983924865723!\n",
      "Iteration 8 / 100 start:\n",
      "Updating S_item with GPU...\n",
      "GPU failed, trying with CPU...\n",
      "Updating S_user with GPU...\n",
      "GPU failed, trying with CPU...\n",
      "S_user updated in 18.00390887260437, S_item updated in 75.29240489006042!\n",
      "Iteration 9 / 100 start:\n",
      "Updating S_item with GPU...\n",
      "GPU failed, trying with CPU...\n",
      "Updating S_user with GPU...\n",
      "GPU failed, trying with CPU...\n",
      "S_user updated in 18.587188959121704, S_item updated in 73.97538805007935!\n",
      "Converged at iteration 9, break!\n"
     ]
    }
   ],
   "source": [
    "wbs.fit(rating_train)"
   ]
  },
  {
   "cell_type": "code",
   "execution_count": 23,
   "metadata": {},
   "outputs": [
    {
     "name": "stdout",
     "output_type": "stream",
     "text": [
      "Count of cold start user: 0\n",
      "Count of cold start item: 0\n"
     ]
    }
   ],
   "source": [
    "wbs_pred = wbs.cf_recommendation(rating_test)"
   ]
  },
  {
   "cell_type": "code",
   "execution_count": 24,
   "metadata": {},
   "outputs": [
    {
     "name": "stdout",
     "output_type": "stream",
     "text": [
      "Precision: 0.10496293245469523\n",
      "Recall: 0.1790765360918646\n",
      "ndcg: 0.17597979725507895\n"
     ]
    }
   ],
   "source": [
    "# Evaluation\n",
    "wbs_precision = evaluation.precision_at_k(\n",
    "    rating_test,\n",
    "    wbs_pred,\n",
    "    user_grouped = user_grouped\n",
    ")\n",
    "print(f\"Precision: {tsr_precision}\")\n",
    "wbs_recall = evaluation.recall_at_k(\n",
    "    rating_test,\n",
    "    wbs_pred,\n",
    "    user_grouped = user_grouped\n",
    ")\n",
    "print(f\"Recall: {tsr_recall}\")\n",
    "wbs_ndcg = evaluation.ndcg_at_k(\n",
    "    rating_test,\n",
    "    wbs_pred,\n",
    "    user_grouped = user_grouped\n",
    ")\n",
    "print(f\"ndcg: {tsr_ndcg}\")"
   ]
  },
  {
   "cell_type": "code",
   "execution_count": null,
   "metadata": {},
   "outputs": [],
   "source": []
  },
  {
   "cell_type": "code",
   "execution_count": 29,
   "metadata": {},
   "outputs": [],
   "source": [
    "import matplotlib.pyplot as plt"
   ]
  },
  {
   "cell_type": "code",
   "execution_count": 27,
   "metadata": {},
   "outputs": [],
   "source": [
    "COL_USER = \"userId\"\n",
    "COL_ITEM = \"movieId\"\n",
    "COL_RATING = \"rating\"\n",
    "COL_PREDICTION = \"rating\"\n",
    "DEFAULT_K = 10\n",
    "DEFAULT_THRESHOLD = 12\n",
    "\n",
    "DEFAULT_USER_COL = \"userId\"\n",
    "DEFAULT_ITEM_COL = \"movieId\"\n",
    "DEFAULT_RATING_COL = \"rating\"\n",
    "#DEFAULT_LABEL_COL = \"label\"\n",
    "#DEFAULT_TIMESTAMP_COL = \"timestamp\"\n",
    "DEFAULT_PREDICTION_COL = \"rating\""
   ]
  },
  {
   "cell_type": "code",
   "execution_count": 42,
   "metadata": {},
   "outputs": [],
   "source": [
    "def merge_ranking_true_pred(\n",
    "    rating_true,\n",
    "    rating_pred,\n",
    "    col_user,\n",
    "    col_item,\n",
    "    col_rating,\n",
    "    col_prediction,\n",
    "    relevancy_method,\n",
    "    user_grouped,\n",
    "    k=DEFAULT_K,\n",
    "    threshold=DEFAULT_THRESHOLD,\n",
    "    \n",
    "):\n",
    "    \"\"\"Filter truth and prediction data frames on common users\n",
    "    Args:\n",
    "        rating_true (pd.DataFrame): True DataFrame\n",
    "        rating_pred (pd.DataFrame): Predicted DataFrame\n",
    "        col_user (str): column name for user\n",
    "        col_item (str): column name for item\n",
    "        col_rating (str): column name for rating\n",
    "        col_prediction (str): column name for prediction\n",
    "        relevancy_method (str): method for determining relevancy ['top_k', 'by_threshold', None]. None means that the \n",
    "            top k items are directly provided, so there is no need to compute the relevancy operation.\n",
    "        k (int): number of top k items per user (optional)\n",
    "        threshold (float): threshold of top items per user (optional)\n",
    "    Returns:\n",
    "        pd.DataFrame, pd.DataFrame, int: DataFrame of recommendation hits, sorted by `col_user` and `rank`\n",
    "        DataFrmae of hit counts vs actual relevant items per user number of unique user ids\n",
    "    \"\"\"\n",
    "\n",
    "    # Make sure the prediction and true data frames have the same set of users\n",
    "    common_users = set(rating_true[col_user]).intersection(set(rating_pred[col_user]))\n",
    "    rating_true_common = rating_true[rating_true[col_user].isin(common_users)]\n",
    "    rating_pred_common = rating_pred[rating_pred[col_user].isin(common_users)]\n",
    "    n_users = len(common_users)\n",
    "\n",
    "    # Return hit items in prediction data frame with ranking information. This is used for calculating NDCG and MAP.\n",
    "    # Use first to generate unique ranking values for each item. This is to align with the implementation in\n",
    "    # Spark evaluation metrics, where index of each recommended items (the indices are unique to items) is used\n",
    "    # to calculate penalized precision of the ordered items.        \n",
    "\n",
    "    \n",
    "    # Sort dataframe by col_user and (top k) col_rating\n",
    "    if relevancy_method is None:\n",
    "        df_hit = rating_pred_common\n",
    "    elif relevancy_method == \"top_k\":\n",
    "        df_hit = rating_pred_common.groupby(col_user, as_index=False)\\\n",
    "        .apply(lambda x: x.nlargest(k, col_prediction))\\\n",
    "        .reset_index(drop=True)\n",
    "    elif relevancy_method == \"by_threshold\":\n",
    "        df_hit = rating_pred_common[rating_pred_common[col_prediction] >= threshold]\\\n",
    "        .sort_values(col_prediction, ascending=False)\n",
    "    else:\n",
    "        raise NotImplementedError(\"Invalid relevancy_method\")\n",
    "        \n",
    "    # Add ranks\n",
    "    df_hit[\"rank\"] = df_hit.groupby(col_user, sort=False).cumcount() + 1\n",
    "    \n",
    "    \n",
    "    df_hit = pd.merge(df_hit, rating_true_common, on=[col_user, col_item])[\n",
    "        [col_user, col_item, \"rank\"]\n",
    "    ]\n",
    "\n",
    "    # count the number of hits vs actual relevant items per user\n",
    "    df_hit_count = pd.merge(\n",
    "        df_hit.groupby(col_user, as_index=False)[col_user].agg({\"hit\": \"count\"}),\n",
    "        rating_true_common.groupby(col_user, as_index=False)[col_user].agg(\n",
    "            {\"actual\": \"count\"}\n",
    "        ),\n",
    "        on=col_user,\n",
    "    )\n",
    "    \n",
    "    df_hit_count = df_hit_count.join(user_grouped.set_index(col_user), on = [col_user], how = 'left')\n",
    "\n",
    "    return df_hit, df_hit_count, n_users"
   ]
  },
  {
   "cell_type": "code",
   "execution_count": 47,
   "metadata": {},
   "outputs": [],
   "source": [
    "def recall_over_user_group(\n",
    "    df_true,\n",
    "    df_pred,\n",
    "    user_grouped,\n",
    "    col_user=DEFAULT_USER_COL,\n",
    "    col_item=DEFAULT_ITEM_COL,\n",
    "    col_rating=DEFAULT_RATING_COL,\n",
    "    col_prediction=DEFAULT_PREDICTION_COL,\n",
    "    relevancy_method=\"top_k\",\n",
    "    k=DEFAULT_K,\n",
    "    threshold=DEFAULT_THRESHOLD,\n",
    "    k_items=5,\n",
    "    plot=True\n",
    "):\n",
    "    df_hit, df_hit_count, n_users = merge_ranking_true_pred(\n",
    "        df_true,\n",
    "        df_pred,\n",
    "        col_user,\n",
    "        col_item,\n",
    "        col_rating,\n",
    "        col_prediction,\n",
    "        relevancy_method,\n",
    "        user_grouped,\n",
    "        k=k,\n",
    "        threshold=threshold,\n",
    "    )\n",
    "\n",
    "    if df_hit.shape[0] == 0:\n",
    "        return 0.0\n",
    "    df_hit_count['recall'] = df_hit_count[\"hit\"] / df_hit_count[\"actual\"]\n",
    "    user_recall = df_hit_count['recall']\n",
    "    groupIds = sorted(user_grouped.groupId.unique())\n",
    "    groupRanges = [user_grouped[user_grouped.groupId==groupId].groupRange.unique()[0] for groupId in groupIds]\n",
    "    gRecalls = list()\n",
    "    for groupId in groupIds:\n",
    "        idx  = user_grouped[user_grouped.groupId == groupId].index\n",
    "        gRecall = np.mean(user_recall[idx]).round(4)\n",
    "        gRecalls.append(gRecall)\n",
    "        \n",
    "    recall_dict = {key:value for key, value in zip(groupRanges, gRecalls)}\n",
    "    print(\"Recall for each user group: \", recall_dict)\n",
    "    _, ax = plt.subplots(1,1)\n",
    "    x = np.arange(len(groupIds)) \n",
    "    y = gRecalls\n",
    "    \n",
    "    if plot:\n",
    "        sns.barplot(x, y, ax = ax)\n",
    "        ax.set_xticklabels(groupRanges)\n",
    "        ax.set_title('Recall Over Different User Groups', size=15)\n",
    "        ax.set_xlabel('User Group With #ratings', size=12)\n",
    "        plt.show()\n",
    "    return recall_dict"
   ]
  },
  {
   "cell_type": "code",
   "execution_count": 49,
   "metadata": {},
   "outputs": [],
   "source": [
    "import seaborn as sns"
   ]
  },
  {
   "cell_type": "code",
   "execution_count": 52,
   "metadata": {},
   "outputs": [
    {
     "name": "stdout",
     "output_type": "stream",
     "text": [
      "Recall for each user group:  {'0-5': 0.3176, '5-10': 0.3197, '10-50': 0.3166, '50-100': 0.2906}\n"
     ]
    },
    {
     "name": "stderr",
     "output_type": "stream",
     "text": [
      "/Users/mac/anaconda2/envs/py36/lib/python3.6/site-packages/pandas/core/series.py:1143: FutureWarning: \n",
      "Passing list-likes to .loc or [] with any missing label will raise\n",
      "KeyError in the future, you can use .reindex() as an alternative.\n",
      "\n",
      "See the documentation here:\n",
      "https://pandas.pydata.org/pandas-docs/stable/user_guide/indexing.html#deprecate-loc-reindex-listlike\n",
      "  return self.loc[key]\n",
      "/Users/mac/anaconda2/envs/py36/lib/python3.6/site-packages/seaborn/_decorators.py:43: FutureWarning: Pass the following variables as keyword args: x, y. From version 0.12, the only valid positional argument will be `data`, and passing other arguments without an explicit keyword will result in an error or misinterpretation.\n",
      "  FutureWarning\n"
     ]
    },
    {
     "data": {
      "image/png": "[encoded data removed]",
      "text/plain": [
       "<Figure size 432x288 with 1 Axes>"
      ]
     },
     "metadata": {
      "needs_background": "light"
     },
     "output_type": "display_data"
    },
    {
     "data": {
      "text/plain": [
       "{'0-5': 0.3176, '5-10': 0.3197, '10-50': 0.3166, '50-100': 0.2906}"
      ]
     },
     "execution_count": 52,
     "metadata": {},
     "output_type": "execute_result"
    }
   ],
   "source": [
    "recall_over_user_group(\n",
    "    rating_test,\n",
    "    wbs_pred,\n",
    "    user_grouped\n",
    ")"
   ]
  },
  {
   "cell_type": "code",
   "execution_count": 54,
   "metadata": {},
   "outputs": [
    {
     "name": "stdout",
     "output_type": "stream",
     "text": [
      "Recall for each user group:  {'0-5': 0.3106, '5-10': 0.3095, '10-50': 0.3066, '50-100': 0.3883}\n"
     ]
    },
    {
     "name": "stderr",
     "output_type": "stream",
     "text": [
      "/Users/mac/anaconda2/envs/py36/lib/python3.6/site-packages/pandas/core/series.py:1143: FutureWarning: \n",
      "Passing list-likes to .loc or [] with any missing label will raise\n",
      "KeyError in the future, you can use .reindex() as an alternative.\n",
      "\n",
      "See the documentation here:\n",
      "https://pandas.pydata.org/pandas-docs/stable/user_guide/indexing.html#deprecate-loc-reindex-listlike\n",
      "  return self.loc[key]\n",
      "/Users/mac/anaconda2/envs/py36/lib/python3.6/site-packages/seaborn/_decorators.py:43: FutureWarning: Pass the following variables as keyword args: x, y. From version 0.12, the only valid positional argument will be `data`, and passing other arguments without an explicit keyword will result in an error or misinterpretation.\n",
      "  FutureWarning\n"
     ]
    },
    {
     "data": {
      "image/png": "[encoded data removed]",
      "text/plain": [
       "<Figure size 432x288 with 1 Axes>"
      ]
     },
     "metadata": {
      "needs_background": "light"
     },
     "output_type": "display_data"
    },
    {
     "data": {
      "text/plain": [
       "{'0-5': 0.3106, '5-10': 0.3095, '10-50': 0.3066, '50-100': 0.3883}"
      ]
     },
     "execution_count": 54,
     "metadata": {},
     "output_type": "execute_result"
    }
   ],
   "source": [
    "recall_over_user_group(\n",
    "    rating_test,\n",
    "    tsr_jac_pred,\n",
    "    user_grouped\n",
    ")"
   ]
  },
  {
   "cell_type": "code",
   "execution_count": null,
   "metadata": {},
   "outputs": [],
   "source": []
  }
 ],
 "metadata": {
  "kernelspec": {
   "display_name": "Python 3",
   "language": "python",
   "name": "python3"
  },
  "language_info": {
   "codemirror_mode": {
    "name": "ipython",
    "version": 3
   },
   "file_extension": ".py",
   "mimetype": "text/x-python",
   "name": "python",
   "nbconvert_exporter": "python",
   "pygments_lexer": "ipython3",
   "version": "3.6.9"
  }
 },
 "nbformat": 4,
 "nbformat_minor": 2
}
